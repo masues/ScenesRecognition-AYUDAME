{
 "cells": [
  {
   "cell_type": "code",
   "execution_count": 1,
   "metadata": {},
   "outputs": [
    {
     "name": "stdout",
     "output_type": "stream",
     "text": [
      "Jupyter environment detected. Enabling Open3D WebVisualizer.\n",
      "[Open3D INFO] WebRTC GUI backend enabled.\n",
      "[Open3D INFO] WebRTCWindowSystem: HTTP handshake server disabled.\n"
     ]
    }
   ],
   "source": [
    "from extractBofs import extractBofs\n",
    "import os\n",
    "import numpy as np\n",
    "from tqdm import tqdm\n",
    "from tensorflow import keras\n",
    "import matplotlib.pyplot as plt\n",
    "from sklearn.metrics import ConfusionMatrixDisplay, classification_report"
   ]
  },
  {
   "cell_type": "code",
   "execution_count": 2,
   "metadata": {},
   "outputs": [
    {
     "name": "stdout",
     "output_type": "stream",
     "text": [
      "Extracting BOFs from class 12...\n"
     ]
    },
    {
     "name": "stderr",
     "output_type": "stream",
     "text": [
      "100%|██████████| 105/105 [00:03<00:00, 27.72it/s]\n"
     ]
    },
    {
     "name": "stdout",
     "output_type": "stream",
     "text": [
      "Extracting BOFs from class 13...\n"
     ]
    },
    {
     "name": "stderr",
     "output_type": "stream",
     "text": [
      "100%|██████████| 105/105 [00:01<00:00, 62.73it/s]\n"
     ]
    },
    {
     "name": "stdout",
     "output_type": "stream",
     "text": [
      "Extracting BOFs from class 14...\n"
     ]
    },
    {
     "name": "stderr",
     "output_type": "stream",
     "text": [
      "100%|██████████| 105/105 [00:00<00:00, 142.02it/s]\n"
     ]
    },
    {
     "name": "stdout",
     "output_type": "stream",
     "text": [
      "Extracting BOFs from class 15...\n"
     ]
    },
    {
     "name": "stderr",
     "output_type": "stream",
     "text": [
      "100%|██████████| 105/105 [00:00<00:00, 120.55it/s]\n"
     ]
    },
    {
     "name": "stdout",
     "output_type": "stream",
     "text": [
      "Extracting BOFs from class 16...\n"
     ]
    },
    {
     "name": "stderr",
     "output_type": "stream",
     "text": [
      "100%|██████████| 105/105 [00:01<00:00, 78.49it/s]\n"
     ]
    },
    {
     "name": "stdout",
     "output_type": "stream",
     "text": [
      "Extracting BOFs from class 17...\n"
     ]
    },
    {
     "name": "stderr",
     "output_type": "stream",
     "text": [
      "100%|██████████| 105/105 [00:05<00:00, 20.41it/s]\n"
     ]
    }
   ],
   "source": [
    "# Ruta de las nubes de puntos divididas en clases\n",
    "ply_dir = \"Proyecto_AYUDAME_Datasets/AYUDAME_02/zones\"\n",
    "\n",
    "dir_classes = os.listdir(ply_dir)\n",
    "dir_classes.sort()\n",
    "\n",
    "bofs = [] # Lista que contendrá todas las BOFs extraidas\n",
    "targets = [] # Lista que contendrá las clases asignadas a cada BOF\n",
    "\n",
    "num_classes = len(dir_classes)\n",
    "\n",
    "\n",
    "# Iteración sobre las clases\n",
    "for class_number in range(12,num_classes): # Solo me interesan las zonas 12 para arriba\n",
    "    print(f\"Extracting BOFs from class {class_number}...\")\n",
    "    dir_class = dir_classes[class_number]\n",
    "    current_class_dir = os.listdir(ply_dir+\"/\"+dir_class)\n",
    "    current_class_dir.sort()\n",
    "\n",
    "    # Contador del número de bofs extraidas por archivo\n",
    "    num_bofs_extracted = 0\n",
    "\n",
    "    # Iteración sobre los elementos de las clases\n",
    "    for ply_file in tqdm(current_class_dir):\n",
    "        # Construye la ruta hacia cada archivo ply\n",
    "        dir_ply_file = ply_dir+\"/\"+dir_class+\"/\"+ply_file\n",
    "        # Extrae las BOFs de la nube de puntos\n",
    "        ply_bofs = extractBofs(dir_ply_file,axis=2,method=2,layers=3)\n",
    "        bofs.extend(ply_bofs)\n",
    "        num_bofs_extracted += len(ply_bofs)\n",
    "\n",
    "    # Asignación de clases\n",
    "    class_target = np.ones(num_bofs_extracted) * class_number\n",
    "    targets.append(class_target)\n",
    "\n",
    "# Se transforman las listas obtenidas a arreglos de numpy\n",
    "bofs_np = np.vstack(bofs)\n",
    "targets_np = np.concatenate(targets)"
   ]
  },
  {
   "cell_type": "code",
   "execution_count": 3,
   "metadata": {},
   "outputs": [],
   "source": [
    "bofs = bofs_np\n",
    "targets = targets_np"
   ]
  },
  {
   "cell_type": "code",
   "execution_count": 4,
   "metadata": {},
   "outputs": [
    {
     "name": "stdout",
     "output_type": "stream",
     "text": [
      "Clases:           [12. 13. 14. 15. 16. 17.]\n",
      "Conteo por clase: [ 80  23   2  23  38 105]\n"
     ]
    }
   ],
   "source": [
    "classes,count_classes = np.unique(targets, return_counts=True)\n",
    "print(f\"Clases:           {classes}\")\n",
    "print(f\"Conteo por clase: {count_classes}\")"
   ]
  },
  {
   "cell_type": "markdown",
   "metadata": {},
   "source": [
    "Se realiza la asociación de clases de acuerdo a la siguiente tabla\n",
    "\n",
    "|Zona AYUDAME_01    | Zona   AYUDAME_02|\n",
    "|--------------|--------------|\n",
    "|01            |    12        |\n",
    "|06 |               13|\n",
    "|06 |               14|\n",
    "|07 |               15|\n",
    "|08 |               16|\n",
    "|08 |               17|"
   ]
  },
  {
   "cell_type": "code",
   "execution_count": 5,
   "metadata": {},
   "outputs": [],
   "source": [
    "targets = np.where(targets == 12,1,targets)\n",
    "targets = np.where(targets == 13,6,targets)\n",
    "targets = np.where(targets == 14,6,targets)\n",
    "targets = np.where(targets == 15,7,targets)\n",
    "targets = np.where(targets == 16,8,targets)\n",
    "targets = np.where(targets == 17,8,targets)"
   ]
  },
  {
   "cell_type": "code",
   "execution_count": 6,
   "metadata": {},
   "outputs": [
    {
     "name": "stdout",
     "output_type": "stream",
     "text": [
      "Clases:           [1. 6. 7. 8.]\n",
      "Conteo por clase: [ 80  25  23 143]\n"
     ]
    }
   ],
   "source": [
    "classes,count_classes = np.unique(targets, return_counts=True)\n",
    "print(f\"Clases:           {classes}\")\n",
    "print(f\"Conteo por clase: {count_classes}\")"
   ]
  },
  {
   "cell_type": "code",
   "execution_count": 7,
   "metadata": {},
   "outputs": [
    {
     "name": "stdout",
     "output_type": "stream",
     "text": [
      "[[0. 1. 0. 0. 0. 0. 0. 0. 0.]\n",
      " [0. 1. 0. 0. 0. 0. 0. 0. 0.]\n",
      " [0. 1. 0. 0. 0. 0. 0. 0. 0.]] [1. 1. 1.]\n"
     ]
    }
   ],
   "source": [
    "targets_oh = keras.utils.to_categorical(targets, 9)\n",
    "print(targets_oh[:3], targets[:3])"
   ]
  },
  {
   "cell_type": "markdown",
   "metadata": {},
   "source": [
    "## Fully connected neural network"
   ]
  },
  {
   "cell_type": "code",
   "execution_count": 8,
   "metadata": {},
   "outputs": [
    {
     "name": "stderr",
     "output_type": "stream",
     "text": [
      "2022-06-02 10:54:11.385395: I tensorflow/core/platform/cpu_feature_guard.cc:151] This TensorFlow binary is optimized with oneAPI Deep Neural Network Library (oneDNN) to use the following CPU instructions in performance-critical operations:  SSE4.1 SSE4.2 AVX AVX2 AVX512F FMA\n",
      "To enable them in other operations, rebuild TensorFlow with the appropriate compiler flags.\n"
     ]
    }
   ],
   "source": [
    "model = keras.models.load_model(\"BOF_nn_model_iimas.h5\")"
   ]
  },
  {
   "cell_type": "code",
   "execution_count": 9,
   "metadata": {},
   "outputs": [
    {
     "name": "stdout",
     "output_type": "stream",
     "text": [
      "Model: \"model\"\n",
      "_________________________________________________________________\n",
      " Layer (type)                Output Shape              Param #   \n",
      "=================================================================\n",
      " input_1 (InputLayer)        [(None, 180)]             0         \n",
      "                                                                 \n",
      " normalization (Normalizatio  (None, 180)              0         \n",
      " n)                                                              \n",
      "                                                                 \n",
      " dense (Dense)               (None, 360)               65160     \n",
      "                                                                 \n",
      " dense_1 (Dense)             (None, 540)               194940    \n",
      "                                                                 \n",
      " dense_2 (Dense)             (None, 360)               194760    \n",
      "                                                                 \n",
      " dense_3 (Dense)             (None, 180)               64980     \n",
      "                                                                 \n",
      " dense_4 (Dense)             (None, 9)                 1629      \n",
      "                                                                 \n",
      "=================================================================\n",
      "Total params: 521,469\n",
      "Trainable params: 521,469\n",
      "Non-trainable params: 0\n",
      "_________________________________________________________________\n"
     ]
    }
   ],
   "source": [
    "model.summary()"
   ]
  },
  {
   "cell_type": "code",
   "execution_count": 10,
   "metadata": {},
   "outputs": [
    {
     "name": "stdout",
     "output_type": "stream",
     "text": [
      "9/9 [==============================] - 0s 6ms/step - loss: 9.0081 - accuracy: 0.2066 \n",
      "loss: 9.008\n",
      "acc : 0.207\n"
     ]
    }
   ],
   "source": [
    "loss, acc = model.evaluate(x=bofs,y=targets_oh)\n",
    "print(\"loss: %.3f\" % loss)\n",
    "print(\"acc : %.3f\" % acc)"
   ]
  },
  {
   "cell_type": "code",
   "execution_count": 11,
   "metadata": {},
   "outputs": [
    {
     "data": {
      "text/plain": [
       "(271, 9)"
      ]
     },
     "execution_count": 11,
     "metadata": {},
     "output_type": "execute_result"
    }
   ],
   "source": [
    "predictions = model.predict(bofs)\n",
    "predictions.shape"
   ]
  },
  {
   "cell_type": "code",
   "execution_count": 12,
   "metadata": {},
   "outputs": [
    {
     "data": {
      "text/plain": [
       "(271,)"
      ]
     },
     "execution_count": 12,
     "metadata": {},
     "output_type": "execute_result"
    }
   ],
   "source": [
    "targets_pred = np.argmax(predictions,axis=1)\n",
    "targets_pred.shape"
   ]
  },
  {
   "cell_type": "code",
   "execution_count": 13,
   "metadata": {},
   "outputs": [
    {
     "data": {
      "image/png": "[encoded data removed]",
      "text/plain": [
       "<Figure size 648x504 with 2 Axes>"
      ]
     },
     "metadata": {
      "needs_background": "light"
     },
     "output_type": "display_data"
    }
   ],
   "source": [
    "fig, ax = plt.subplots(figsize=(9,7))\n",
    "cmd = ConfusionMatrixDisplay.from_predictions(y_true=targets,y_pred=targets_pred,\n",
    "                                              ax=ax,cmap='PuRd')\n",
    "plt.show()"
   ]
  },
  {
   "cell_type": "markdown",
   "metadata": {},
   "source": [
    "A continuación se imprime un reporte de las metricas más relevantes de la clasificación, las cuales son:\n",
    "\n",
    "- Precisión (precision): $\\frac{tp}{tp + fp}$. La habilidad del clasificador para no etiquetar como positiva una muestra que es negativa.\n",
    "\n",
    "- Exhaustividad (recall): $\\frac{tp}{tp + fn}$. La habilidad del clasificador de encontrar todas las muestras positivas.\n",
    "\n",
    "- Medida F ($F_\\beta$ score): Media armónica de la precisión y exhaustividad, dónde el mejor valor es 1 y el peor 0.\n",
    "\n",
    "[Más información](https://scikit-learn.org/stable/modules/generated/sklearn.metrics.precision_recall_fscore_support.html)"
   ]
  },
  {
   "cell_type": "code",
   "execution_count": 14,
   "metadata": {},
   "outputs": [
    {
     "name": "stdout",
     "output_type": "stream",
     "text": [
      "              precision    recall  f1-score   support\n",
      "\n",
      "         0.0       0.00      0.00      0.00         0\n",
      "         1.0       0.00      0.00      0.00        80\n",
      "         2.0       0.00      0.00      0.00         0\n",
      "         3.0       0.00      0.00      0.00         0\n",
      "         4.0       0.00      0.00      0.00         0\n",
      "         5.0       0.00      0.00      0.00         0\n",
      "         6.0       0.48      0.84      0.61        25\n",
      "         7.0       0.00      0.00      0.00        23\n",
      "         8.0       0.59      0.24      0.35       143\n",
      "\n",
      "    accuracy                           0.21       271\n",
      "   macro avg       0.12      0.12      0.11       271\n",
      "weighted avg       0.36      0.21      0.24       271\n",
      "\n"
     ]
    },
    {
     "name": "stderr",
     "output_type": "stream",
     "text": [
      "/home/mario/miniconda3/envs/rgbd/lib/python3.9/site-packages/sklearn/metrics/_classification.py:1327: UndefinedMetricWarning: Recall and F-score are ill-defined and being set to 0.0 in labels with no true samples. Use `zero_division` parameter to control this behavior.\n",
      "  _warn_prf(average, modifier, msg_start, len(result))\n",
      "/home/mario/miniconda3/envs/rgbd/lib/python3.9/site-packages/sklearn/metrics/_classification.py:1327: UndefinedMetricWarning: Recall and F-score are ill-defined and being set to 0.0 in labels with no true samples. Use `zero_division` parameter to control this behavior.\n",
      "  _warn_prf(average, modifier, msg_start, len(result))\n",
      "/home/mario/miniconda3/envs/rgbd/lib/python3.9/site-packages/sklearn/metrics/_classification.py:1327: UndefinedMetricWarning: Recall and F-score are ill-defined and being set to 0.0 in labels with no true samples. Use `zero_division` parameter to control this behavior.\n",
      "  _warn_prf(average, modifier, msg_start, len(result))\n"
     ]
    }
   ],
   "source": [
    "print(classification_report(y_true=targets,y_pred=targets_pred))"
   ]
  },
  {
   "cell_type": "markdown",
   "metadata": {},
   "source": [
    "## CNN"
   ]
  },
  {
   "cell_type": "code",
   "execution_count": 15,
   "metadata": {},
   "outputs": [
    {
     "name": "stdout",
     "output_type": "stream",
     "text": [
      "[[0. 1. 0. 0. 0. 0. 0. 0. 0.]\n",
      " [0. 1. 0. 0. 0. 0. 0. 0. 0.]\n",
      " [0. 1. 0. 0. 0. 0. 0. 0. 0.]] [1. 1. 1.]\n"
     ]
    }
   ],
   "source": [
    "targets_oh = keras.utils.to_categorical(targets, 9)\n",
    "print(targets_oh[:3], targets[:3])"
   ]
  },
  {
   "cell_type": "code",
   "execution_count": 16,
   "metadata": {},
   "outputs": [
    {
     "name": "stdout",
     "output_type": "stream",
     "text": [
      "Model: \"model\"\n",
      "_________________________________________________________________\n",
      " Layer (type)                Output Shape              Param #   \n",
      "=================================================================\n",
      " input_1 (InputLayer)        [(None, 180)]             0         \n",
      "                                                                 \n",
      " normalization (Normalizatio  (None, 180)              0         \n",
      " n)                                                              \n",
      "                                                                 \n",
      " dense (Dense)               (None, 360)               65160     \n",
      "                                                                 \n",
      " dense_1 (Dense)             (None, 540)               194940    \n",
      "                                                                 \n",
      " dense_2 (Dense)             (None, 360)               194760    \n",
      "                                                                 \n",
      " dense_3 (Dense)             (None, 180)               64980     \n",
      "                                                                 \n",
      " dense_4 (Dense)             (None, 9)                 1629      \n",
      "                                                                 \n",
      "=================================================================\n",
      "Total params: 521,469\n",
      "Trainable params: 521,469\n",
      "Non-trainable params: 0\n",
      "_________________________________________________________________\n"
     ]
    }
   ],
   "source": [
    "model.summary()"
   ]
  },
  {
   "cell_type": "code",
   "execution_count": 17,
   "metadata": {},
   "outputs": [
    {
     "name": "stdout",
     "output_type": "stream",
     "text": [
      "9/9 [==============================] - 0s 4ms/step - loss: 9.0081 - accuracy: 0.2066 \n",
      "loss: 9.008\n",
      "acc : 0.207\n"
     ]
    }
   ],
   "source": [
    "loss, acc = model.evaluate(x=bofs,y=targets_oh)\n",
    "print(\"loss: %.3f\" % loss)\n",
    "print(\"acc : %.3f\" % acc)"
   ]
  },
  {
   "cell_type": "code",
   "execution_count": 18,
   "metadata": {},
   "outputs": [
    {
     "data": {
      "text/plain": [
       "(271, 9)"
      ]
     },
     "execution_count": 18,
     "metadata": {},
     "output_type": "execute_result"
    }
   ],
   "source": [
    "predictions = model.predict(bofs)\n",
    "predictions.shape"
   ]
  },
  {
   "cell_type": "code",
   "execution_count": 19,
   "metadata": {},
   "outputs": [
    {
     "data": {
      "text/plain": [
       "(271,)"
      ]
     },
     "execution_count": 19,
     "metadata": {},
     "output_type": "execute_result"
    }
   ],
   "source": [
    "targets_pred = np.argmax(predictions,axis=1)\n",
    "targets_pred.shape"
   ]
  },
  {
   "cell_type": "code",
   "execution_count": 20,
   "metadata": {},
   "outputs": [
    {
     "data": {
      "image/png": "[encoded data removed]",
      "text/plain": [
       "<Figure size 648x504 with 2 Axes>"
      ]
     },
     "metadata": {
      "needs_background": "light"
     },
     "output_type": "display_data"
    }
   ],
   "source": [
    "fig, ax = plt.subplots(figsize=(9,7))\n",
    "cmd = ConfusionMatrixDisplay.from_predictions(y_true=targets,y_pred=targets_pred,\n",
    "                                              ax=ax,cmap='PuRd')\n",
    "plt.show()"
   ]
  },
  {
   "cell_type": "markdown",
   "metadata": {},
   "source": [
    "A continuación se imprime un reporte de las metricas más relevantes de la clasificación, las cuales son:\n",
    "\n",
    "- Precisión (precision): $\\frac{tp}{tp + fp}$. La habilidad del clasificador para no etiquetar como positiva una muestra que es negativa.\n",
    "\n",
    "- Exhaustividad (recall): $\\frac{tp}{tp + fn}$. La habilidad del clasificador de encontrar todas las muestras positivas.\n",
    "\n",
    "- Medida F ($F_\\beta$ score): Media armónica de la precisión y exhaustividad, dónde el mejor valor es 1 y el peor 0.\n",
    "\n",
    "[Más información](https://scikit-learn.org/stable/modules/generated/sklearn.metrics.precision_recall_fscore_support.html)"
   ]
  },
  {
   "cell_type": "code",
   "execution_count": 21,
   "metadata": {},
   "outputs": [
    {
     "name": "stdout",
     "output_type": "stream",
     "text": [
      "              precision    recall  f1-score   support\n",
      "\n",
      "         0.0       0.00      0.00      0.00         0\n",
      "         1.0       0.00      0.00      0.00        80\n",
      "         2.0       0.00      0.00      0.00         0\n",
      "         3.0       0.00      0.00      0.00         0\n",
      "         4.0       0.00      0.00      0.00         0\n",
      "         5.0       0.00      0.00      0.00         0\n",
      "         6.0       0.48      0.84      0.61        25\n",
      "         7.0       0.00      0.00      0.00        23\n",
      "         8.0       0.59      0.24      0.35       143\n",
      "\n",
      "    accuracy                           0.21       271\n",
      "   macro avg       0.12      0.12      0.11       271\n",
      "weighted avg       0.36      0.21      0.24       271\n",
      "\n"
     ]
    },
    {
     "name": "stderr",
     "output_type": "stream",
     "text": [
      "/home/mario/miniconda3/envs/rgbd/lib/python3.9/site-packages/sklearn/metrics/_classification.py:1327: UndefinedMetricWarning: Recall and F-score are ill-defined and being set to 0.0 in labels with no true samples. Use `zero_division` parameter to control this behavior.\n",
      "  _warn_prf(average, modifier, msg_start, len(result))\n",
      "/home/mario/miniconda3/envs/rgbd/lib/python3.9/site-packages/sklearn/metrics/_classification.py:1327: UndefinedMetricWarning: Recall and F-score are ill-defined and being set to 0.0 in labels with no true samples. Use `zero_division` parameter to control this behavior.\n",
      "  _warn_prf(average, modifier, msg_start, len(result))\n",
      "/home/mario/miniconda3/envs/rgbd/lib/python3.9/site-packages/sklearn/metrics/_classification.py:1327: UndefinedMetricWarning: Recall and F-score are ill-defined and being set to 0.0 in labels with no true samples. Use `zero_division` parameter to control this behavior.\n",
      "  _warn_prf(average, modifier, msg_start, len(result))\n"
     ]
    }
   ],
   "source": [
    "print(classification_report(y_true=targets,y_pred=targets_pred))"
   ]
  }
 ],
 "metadata": {
  "interpreter": {
   "hash": "3f0822e95089ef0e47302329ecab0c072afaf29e3bd77cbe2eee5700300d1247"
  },
  "kernelspec": {
   "display_name": "Python 3.9.13 ('rgbd')",
   "language": "python",
   "name": "python3"
  },
  "language_info": {
   "codemirror_mode": {
    "name": "ipython",
    "version": 3
   },
   "file_extension": ".py",
   "mimetype": "text/x-python",
   "name": "python",
   "nbconvert_exporter": "python",
   "pygments_lexer": "ipython3",
   "version": "3.9.13"
  },
  "orig_nbformat": 4
 },
 "nbformat": 4,
 "nbformat_minor": 2
}
