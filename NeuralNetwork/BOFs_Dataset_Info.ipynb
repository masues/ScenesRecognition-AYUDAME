{
 "cells": [
  {
   "cell_type": "markdown",
   "metadata": {},
   "source": [
    "# Información del dataset de BOFs"
   ]
  },
  {
   "cell_type": "code",
   "execution_count": 1,
   "metadata": {},
   "outputs": [],
   "source": [
    "import numpy as np\n",
    "import matplotlib.pyplot as plt"
   ]
  },
  {
   "cell_type": "code",
   "execution_count": 2,
   "metadata": {},
   "outputs": [],
   "source": [
    "bofs = np.load('bof_rgb.npy')\n",
    "targets = np.load('targets_rgb.npy')"
   ]
  },
  {
   "cell_type": "code",
   "execution_count": 3,
   "metadata": {},
   "outputs": [
    {
     "name": "stdout",
     "output_type": "stream",
     "text": [
      "(4838, 180)\n",
      "(4838,)\n"
     ]
    }
   ],
   "source": [
    "print(bofs.shape)\n",
    "print(targets.shape)"
   ]
  },
  {
   "cell_type": "code",
   "execution_count": 6,
   "metadata": {},
   "outputs": [
    {
     "name": "stdout",
     "output_type": "stream",
     "text": [
      "{0: 298, 1: 394, 2: 984, 3: 773, 4: 372, 5: 343, 6: 355, 7: 337, 8: 982}\n"
     ]
    }
   ],
   "source": [
    "classes,count_classes = np.unique(targets, return_counts=True)\n",
    "class_dict = dict(zip(classes.astype('int'),count_classes))\n",
    "print(class_dict)"
   ]
  },
  {
   "cell_type": "code",
   "execution_count": 5,
   "metadata": {},
   "outputs": [
    {
     "data": {
      "image/png": "[encoded data removed]",
      "text/plain": [
       "<Figure size 720x432 with 1 Axes>"
      ]
     },
     "metadata": {
      "needs_background": "light"
     },
     "output_type": "display_data"
    }
   ],
   "source": [
    "plt.figure(figsize=(10, 6))\n",
    "plt.bar(classes, count_classes)\n",
    "plt.title('BOFs Dataset')\n",
    "plt.ylabel('BOFs Number')\n",
    "plt.xlabel('Class')\n",
    "plt.show()"
   ]
  }
 ],
 "metadata": {
  "interpreter": {
   "hash": "3f0822e95089ef0e47302329ecab0c072afaf29e3bd77cbe2eee5700300d1247"
  },
  "kernelspec": {
   "display_name": "Python 3.9.12 ('rgbd')",
   "language": "python",
   "name": "python3"
  },
  "language_info": {
   "codemirror_mode": {
    "name": "ipython",
    "version": 3
   },
   "file_extension": ".py",
   "mimetype": "text/x-python",
   "name": "python",
   "nbconvert_exporter": "python",
   "pygments_lexer": "ipython3",
   "version": "3.9.13"
  },
  "orig_nbformat": 4
 },
 "nbformat": 4,
 "nbformat_minor": 2
}
