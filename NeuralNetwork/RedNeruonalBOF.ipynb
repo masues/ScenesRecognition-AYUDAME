{
  "cells": [
    {
      "cell_type": "markdown",
      "metadata": {
        "id": "8-wv44kHCjLg"
      },
      "source": [
        "# Red neuronal para la clasificación de BOFs en una escena"
      ]
    },
    {
      "cell_type": "code",
      "execution_count": 1,
      "metadata": {
        "id": "IyK5U-KFChil"
      },
      "outputs": [
        {
          "name": "stderr",
          "output_type": "stream",
          "text": [
            "2022-03-14 22:55:14.424684: W tensorflow/stream_executor/platform/default/dso_loader.cc:64] Could not load dynamic library 'libcudart.so.11.0'; dlerror: libcudart.so.11.0: cannot open shared object file: No such file or directory\n",
            "2022-03-14 22:55:14.424729: I tensorflow/stream_executor/cuda/cudart_stub.cc:29] Ignore above cudart dlerror if you do not have a GPU set up on your machine.\n"
          ]
        }
      ],
      "source": [
        "import numpy as np\n",
        "from tensorflow import keras\n",
        "import matplotlib.pyplot as plt\n",
        "from sklearn.model_selection import train_test_split\n",
        "from sklearn.metrics import ConfusionMatrixDisplay, classification_report"
      ]
    },
    {
      "cell_type": "code",
      "execution_count": null,
      "metadata": {
        "colab": {
          "base_uri": "https://localhost:8080/"
        },
        "id": "LHYpldfCGhfQ",
        "outputId": "ac3bcf5b-d530-455f-c75c-caddd427a361"
      },
      "outputs": [
        {
          "name": "stdout",
          "output_type": "stream",
          "text": [
            "--2022-03-08 02:45:34--  https://drive.google.com/uc?export=download&id=12165ZasRQwevTb2JzRZ8sYB8EU-BhWGj\n",
            "Resolving drive.google.com (drive.google.com)... 74.125.142.139, 74.125.142.102, 74.125.142.100, ...\n",
            "Connecting to drive.google.com (drive.google.com)|74.125.142.139|:443... connected.\n",
            "HTTP request sent, awaiting response... 303 See Other\n",
            "Location: https://doc-14-ac-docs.googleusercontent.com/docs/securesc/ha0ro937gcuc7l7deffksulhg5h7mbp1/ev57ej7nok915riidrgodd68nhi5semh/1646707500000/13400443621396335819/*/12165ZasRQwevTb2JzRZ8sYB8EU-BhWGj?e=download [following]\n",
            "Warning: wildcards not supported in HTTP.\n",
            "--2022-03-08 02:45:35--  https://doc-14-ac-docs.googleusercontent.com/docs/securesc/ha0ro937gcuc7l7deffksulhg5h7mbp1/ev57ej7nok915riidrgodd68nhi5semh/1646707500000/13400443621396335819/*/12165ZasRQwevTb2JzRZ8sYB8EU-BhWGj?e=download\n",
            "Resolving doc-14-ac-docs.googleusercontent.com (doc-14-ac-docs.googleusercontent.com)... 108.177.98.132, 2607:f8b0:400e:c06::84\n",
            "Connecting to doc-14-ac-docs.googleusercontent.com (doc-14-ac-docs.googleusercontent.com)|108.177.98.132|:443... connected.\n",
            "HTTP request sent, awaiting response... 200 OK\n",
            "Length: 6009248 (5.7M) [application/octet-stream]\n",
            "Saving to: ‘bofs.npy’\n",
            "\n",
            "bofs.npy            100%[===================>]   5.73M  --.-KB/s    in 0.1s    \n",
            "\n",
            "2022-03-08 02:45:36 (52.7 MB/s) - ‘bofs.npy’ saved [6009248/6009248]\n",
            "\n",
            "--2022-03-08 02:45:36--  https://drive.google.com/uc?export=download&id=1GJZmRwiRLPo8yANRct873ZrVNKWYitjU\n",
            "Resolving drive.google.com (drive.google.com)... 74.125.142.139, 74.125.142.102, 74.125.142.100, ...\n",
            "Connecting to drive.google.com (drive.google.com)|74.125.142.139|:443... connected.\n",
            "HTTP request sent, awaiting response... 303 See Other\n",
            "Location: https://doc-04-ac-docs.googleusercontent.com/docs/securesc/ha0ro937gcuc7l7deffksulhg5h7mbp1/gt2ulhpih85dsg9dvnopg5u0qkge0k45/1646707500000/13400443621396335819/*/1GJZmRwiRLPo8yANRct873ZrVNKWYitjU?e=download [following]\n",
            "Warning: wildcards not supported in HTTP.\n",
            "--2022-03-08 02:45:36--  https://doc-04-ac-docs.googleusercontent.com/docs/securesc/ha0ro937gcuc7l7deffksulhg5h7mbp1/gt2ulhpih85dsg9dvnopg5u0qkge0k45/1646707500000/13400443621396335819/*/1GJZmRwiRLPo8yANRct873ZrVNKWYitjU?e=download\n",
            "Resolving doc-04-ac-docs.googleusercontent.com (doc-04-ac-docs.googleusercontent.com)... 108.177.98.132, 2607:f8b0:400e:c06::84\n",
            "Connecting to doc-04-ac-docs.googleusercontent.com (doc-04-ac-docs.googleusercontent.com)|108.177.98.132|:443... connected.\n",
            "HTTP request sent, awaiting response... 200 OK\n",
            "Length: 33512 (33K) [application/octet-stream]\n",
            "Saving to: ‘targets.npy’\n",
            "\n",
            "targets.npy         100%[===================>]  32.73K  --.-KB/s    in 0s      \n",
            "\n",
            "2022-03-08 02:45:36 (124 MB/s) - ‘targets.npy’ saved [33512/33512]\n",
            "\n"
          ]
        }
      ],
      "source": [
        "!wget \"https://drive.google.com/uc?export=download&id=12165ZasRQwevTb2JzRZ8sYB8EU-BhWGj\" -O bofs.npy\n",
        "!wget \"https://drive.google.com/uc?export=download&id=1GJZmRwiRLPo8yANRct873ZrVNKWYitjU\" -O targets.npy"
      ]
    },
    {
      "cell_type": "code",
      "execution_count": 2,
      "metadata": {
        "id": "WOiz1tKuODkF"
      },
      "outputs": [],
      "source": [
        "bofs = np.load('bofs.npy')\n",
        "targets = np.load('targets.npy')"
      ]
    },
    {
      "cell_type": "markdown",
      "metadata": {
        "id": "Mm6LyZdKg0no"
      },
      "source": [
        "## Análisis exploratorio de datos"
      ]
    },
    {
      "cell_type": "code",
      "execution_count": 3,
      "metadata": {
        "colab": {
          "base_uri": "https://localhost:8080/"
        },
        "id": "sOH56YUkFguh",
        "outputId": "348af52f-3361-465a-e4ea-6b1125953991"
      },
      "outputs": [
        {
          "name": "stdout",
          "output_type": "stream",
          "text": [
            "(4991, 180)\n",
            "(4991,)\n"
          ]
        }
      ],
      "source": [
        "print(bofs.shape)\n",
        "print(targets.shape)"
      ]
    },
    {
      "cell_type": "markdown",
      "metadata": {
        "id": "iRd8Ax9tg7D5"
      },
      "source": [
        "El arreglo de *bofs* contiene 4173 descriptores, cada uno de tamaño 180."
      ]
    },
    {
      "cell_type": "code",
      "execution_count": 4,
      "metadata": {
        "colab": {
          "base_uri": "https://localhost:8080/"
        },
        "id": "kw-R37ZehTHg",
        "outputId": "b626c94f-60bc-49a6-b2b7-1710706cdb74"
      },
      "outputs": [
        {
          "data": {
            "text/plain": [
              "(array([0., 1., 2., 3.]), array([ 714, 2036, 1081, 1160]))"
            ]
          },
          "execution_count": 4,
          "metadata": {},
          "output_type": "execute_result"
        }
      ],
      "source": [
        "np.unique(targets, return_counts=True)"
      ]
    },
    {
      "cell_type": "markdown",
      "metadata": {
        "id": "1I4fh0PxhdAu"
      },
      "source": [
        "El arrgelo *targets* contiene la clase asignada a cada BOF, la cual, está relacionada con la zona (ubicación) a la que pertenece la cada BOF.\n",
        "\n",
        "De igual forma se realiza el conteo de los valores únicos. Se puede observar que la clase con menos valores es la 0, la cual tiene aproximadamente una tercera parte del contenido de la clase 1."
      ]
    },
    {
      "cell_type": "markdown",
      "metadata": {
        "id": "A3mfnFItnCge"
      },
      "source": [
        "A continuación se calculan la media y varianza de los descriptores, esto para estandarizar los datos y permitir que la red neuronal converja."
      ]
    },
    {
      "cell_type": "code",
      "execution_count": 5,
      "metadata": {
        "colab": {
          "base_uri": "https://localhost:8080/"
        },
        "id": "cVQbovJJOaGX",
        "outputId": "c062c459-c5f6-403c-f8ce-7edb6dd6bd70"
      },
      "outputs": [
        {
          "name": "stdout",
          "output_type": "stream",
          "text": [
            "0.42726931136427476\n",
            "0.07275525300800657\n"
          ]
        }
      ],
      "source": [
        "bofs_mean = np.mean(bofs)\n",
        "bofs_var = np.var(bofs)\n",
        "print(bofs_mean)\n",
        "print(bofs_var)"
      ]
    },
    {
      "cell_type": "markdown",
      "metadata": {
        "id": "2DLunBVSklgv"
      },
      "source": [
        "## División de datos para entrenamiento, validación y prueba\n",
        "- 70\\% entrenamiento\n",
        "- 15% validación\n",
        "- 15% prueba"
      ]
    },
    {
      "cell_type": "code",
      "execution_count": 6,
      "metadata": {
        "id": "d_q43mCvlwFK"
      },
      "outputs": [],
      "source": [
        "X_train, X_test, y_train, y_test = train_test_split(bofs, targets,\n",
        "    test_size=0.15, shuffle = True, random_state = 8)"
      ]
    },
    {
      "cell_type": "code",
      "execution_count": 7,
      "metadata": {
        "id": "W4WJnbe6pZ-z"
      },
      "outputs": [],
      "source": [
        "X_train, X_val, y_train, y_val = train_test_split(X_train, y_train,\n",
        "    test_size=3/17, shuffle = True, random_state = 8)"
      ]
    },
    {
      "cell_type": "code",
      "execution_count": 8,
      "metadata": {
        "id": "eHl1reVRqTrD"
      },
      "outputs": [],
      "source": [
        "# Los datos objetivo son transformados a vectores one-hot para poder\n",
        "# realizar el entrenamiento\n",
        "y_train_oh = keras.utils.to_categorical(y_train, 4)\n",
        "y_val_oh = keras.utils.to_categorical(y_val, 4)\n",
        "y_test_oh = keras.utils.to_categorical(y_test, 4)"
      ]
    },
    {
      "cell_type": "code",
      "execution_count": 9,
      "metadata": {
        "colab": {
          "base_uri": "https://localhost:8080/"
        },
        "id": "D2K53R4JtRbz",
        "outputId": "ba22cf70-c746-4cab-9ea2-b96fb67c42d0"
      },
      "outputs": [
        {
          "name": "stdout",
          "output_type": "stream",
          "text": [
            "(3493, 180)\n",
            "(749, 4)\n",
            "(749, 4)\n",
            "[[0. 1. 0. 0.]\n",
            " [0. 0. 1. 0.]\n",
            " [0. 1. 0. 0.]] [1. 2. 1.]\n"
          ]
        }
      ],
      "source": [
        "print(X_train.shape)\n",
        "print(y_test_oh.shape)\n",
        "print(y_val_oh.shape)\n",
        "print(y_train_oh[:3], y_train[:3])"
      ]
    },
    {
      "cell_type": "markdown",
      "metadata": {
        "id": "z97phCyweIuP"
      },
      "source": [
        "## Definición de la arquitectura\n",
        "Según un articulo publicado en 2021\n",
        "([nota de revista](https://www.quantamagazine.org/computer-scientists-prove-why-bigger-neural-networks-do-better-20220210),\n",
        "[articulo](https://arxiv.org/abs/2105.12806)),\n",
        "*se requieren $n\\times d$ parámetros para ajustar suavente un modelo de aprendizaje*, dónde $n$ es el número de puntos en el conjunto de datos de entrenamiento, mientras que $d$ es la dimensión de los datos.\n",
        "\n",
        "Para el caso de este proyecto, se supondrá $n=2100$ (número de BOFs de entrenamiento), mientras que $d=180$ (dimensionalidad de cada BOF).  \n",
        "Por lo tanto se requieren $n \\times d = 378000$ parámetros.\n",
        "\n"
      ]
    },
    {
      "cell_type": "code",
      "execution_count": 10,
      "metadata": {
        "id": "2MBHsSXOjFeQ"
      },
      "outputs": [],
      "source": [
        "def BOF_nn(mean,variance):\n",
        "    inputs = keras.Input(shape=(180,))\n",
        "    x = keras.layers.Normalization(mean=mean,variance=variance)(inputs)\n",
        "    x = keras.layers.Dense(units=180*2,activation=\"elu\")(x)\n",
        "    x = keras.layers.Dense(units=180*3,activation=\"elu\")(x)\n",
        "    x = keras.layers.Dense(units=180*2,activation=\"elu\")(x)\n",
        "    x = keras.layers.Dense(units=180,activation=\"elu\")(x)\n",
        "    outputs = keras.layers.Dense(units=4,activation=\"softmax\")(x)\n",
        "\n",
        "    model = keras.Model(inputs, outputs)\n",
        "    return model"
      ]
    },
    {
      "cell_type": "code",
      "execution_count": 11,
      "metadata": {
        "colab": {
          "base_uri": "https://localhost:8080/"
        },
        "id": "GRWB-Yy_nwvK",
        "outputId": "81816bda-5a3c-403e-87d5-cf211e27c21b"
      },
      "outputs": [
        {
          "name": "stdout",
          "output_type": "stream",
          "text": [
            "Model: \"model\"\n",
            "_________________________________________________________________\n",
            " Layer (type)                Output Shape              Param #   \n",
            "=================================================================\n",
            " input_1 (InputLayer)        [(None, 180)]             0         \n",
            "                                                                 \n",
            " normalization (Normalizatio  (None, 180)              0         \n",
            " n)                                                              \n",
            "                                                                 \n",
            " dense (Dense)               (None, 360)               65160     \n",
            "                                                                 \n",
            " dense_1 (Dense)             (None, 540)               194940    \n",
            "                                                                 \n",
            " dense_2 (Dense)             (None, 360)               194760    \n",
            "                                                                 \n",
            " dense_3 (Dense)             (None, 180)               64980     \n",
            "                                                                 \n",
            " dense_4 (Dense)             (None, 4)                 724       \n",
            "                                                                 \n",
            "=================================================================\n",
            "Total params: 520,564\n",
            "Trainable params: 520,564\n",
            "Non-trainable params: 0\n",
            "_________________________________________________________________\n"
          ]
        },
        {
          "name": "stderr",
          "output_type": "stream",
          "text": [
            "2022-03-14 22:56:48.264944: W tensorflow/stream_executor/platform/default/dso_loader.cc:64] Could not load dynamic library 'libcuda.so.1'; dlerror: libcuda.so.1: cannot open shared object file: No such file or directory\n",
            "2022-03-14 22:56:48.264970: W tensorflow/stream_executor/cuda/cuda_driver.cc:269] failed call to cuInit: UNKNOWN ERROR (303)\n",
            "2022-03-14 22:56:48.264995: I tensorflow/stream_executor/cuda/cuda_diagnostics.cc:156] kernel driver does not appear to be running on this host (pavilion13-neon): /proc/driver/nvidia/version does not exist\n",
            "2022-03-14 22:56:48.265650: I tensorflow/core/platform/cpu_feature_guard.cc:151] This TensorFlow binary is optimized with oneAPI Deep Neural Network Library (oneDNN) to use the following CPU instructions in performance-critical operations:  AVX2 AVX512F FMA\n",
            "To enable them in other operations, rebuild TensorFlow with the appropriate compiler flags.\n"
          ]
        }
      ],
      "source": [
        "model = BOF_nn(bofs_mean,bofs_var)\n",
        "model.summary()"
      ]
    },
    {
      "cell_type": "code",
      "execution_count": 12,
      "metadata": {
        "id": "l7EWeGYqpYK6"
      },
      "outputs": [],
      "source": [
        "model.compile(\n",
        "    optimizer='adam',\n",
        "    loss='categorical_crossentropy',\n",
        "    metrics=['accuracy']\n",
        ")"
      ]
    },
    {
      "cell_type": "code",
      "execution_count": 13,
      "metadata": {
        "colab": {
          "base_uri": "https://localhost:8080/"
        },
        "id": "YAN_xq7br1rp",
        "outputId": "2c2bc3da-718a-48a3-aa7d-e54a6085ac44"
      },
      "outputs": [
        {
          "name": "stdout",
          "output_type": "stream",
          "text": [
            "Epoch 1/50\n",
            "4/4 [==============================] - 1s 113ms/step - loss: 2.0492 - accuracy: 0.3498 - val_loss: 1.4489 - val_accuracy: 0.3712\n",
            "Epoch 2/50\n",
            "4/4 [==============================] - 0s 60ms/step - loss: 1.3712 - accuracy: 0.4145 - val_loss: 1.2490 - val_accuracy: 0.4887\n",
            "Epoch 3/50\n",
            "4/4 [==============================] - 0s 61ms/step - loss: 1.2319 - accuracy: 0.4658 - val_loss: 1.1521 - val_accuracy: 0.4619\n",
            "Epoch 4/50\n",
            "4/4 [==============================] - 0s 63ms/step - loss: 1.1344 - accuracy: 0.4684 - val_loss: 1.1139 - val_accuracy: 0.4967\n",
            "Epoch 5/50\n",
            "4/4 [==============================] - 0s 51ms/step - loss: 1.0834 - accuracy: 0.5202 - val_loss: 1.0823 - val_accuracy: 0.5194\n",
            "Epoch 6/50\n",
            "4/4 [==============================] - 0s 62ms/step - loss: 1.0541 - accuracy: 0.5385 - val_loss: 1.0624 - val_accuracy: 0.5260\n",
            "Epoch 7/50\n",
            "4/4 [==============================] - 0s 60ms/step - loss: 1.0209 - accuracy: 0.5580 - val_loss: 1.0326 - val_accuracy: 0.5594\n",
            "Epoch 8/50\n",
            "4/4 [==============================] - 0s 70ms/step - loss: 1.0025 - accuracy: 0.5680 - val_loss: 1.0360 - val_accuracy: 0.5314\n",
            "Epoch 9/50\n",
            "4/4 [==============================] - 0s 58ms/step - loss: 0.9872 - accuracy: 0.5792 - val_loss: 0.9937 - val_accuracy: 0.5781\n",
            "Epoch 10/50\n",
            "4/4 [==============================] - 0s 55ms/step - loss: 0.9607 - accuracy: 0.5889 - val_loss: 0.9915 - val_accuracy: 0.5821\n",
            "Epoch 11/50\n",
            "4/4 [==============================] - 0s 65ms/step - loss: 0.9391 - accuracy: 0.6109 - val_loss: 0.9768 - val_accuracy: 0.6035\n",
            "Epoch 12/50\n",
            "4/4 [==============================] - 0s 73ms/step - loss: 0.9222 - accuracy: 0.6169 - val_loss: 1.0031 - val_accuracy: 0.5728\n",
            "Epoch 13/50\n",
            "4/4 [==============================] - 0s 61ms/step - loss: 0.9205 - accuracy: 0.6241 - val_loss: 0.9979 - val_accuracy: 0.5594\n",
            "Epoch 14/50\n",
            "4/4 [==============================] - 0s 62ms/step - loss: 0.8989 - accuracy: 0.6267 - val_loss: 0.9752 - val_accuracy: 0.5754\n",
            "Epoch 15/50\n",
            "4/4 [==============================] - 0s 75ms/step - loss: 0.8873 - accuracy: 0.6155 - val_loss: 0.9473 - val_accuracy: 0.6061\n",
            "Epoch 16/50\n",
            "4/4 [==============================] - 0s 67ms/step - loss: 0.8584 - accuracy: 0.6413 - val_loss: 0.9328 - val_accuracy: 0.6021\n",
            "Epoch 17/50\n",
            "4/4 [==============================] - 1s 368ms/step - loss: 0.8431 - accuracy: 0.6430 - val_loss: 0.9065 - val_accuracy: 0.6168\n",
            "Epoch 18/50\n",
            "4/4 [==============================] - 2s 436ms/step - loss: 0.8271 - accuracy: 0.6587 - val_loss: 0.9093 - val_accuracy: 0.6182\n",
            "Epoch 19/50\n",
            "4/4 [==============================] - 2s 474ms/step - loss: 0.8041 - accuracy: 0.6685 - val_loss: 0.8831 - val_accuracy: 0.6395\n",
            "Epoch 20/50\n",
            "4/4 [==============================] - 1s 208ms/step - loss: 0.7854 - accuracy: 0.6768 - val_loss: 0.8922 - val_accuracy: 0.6395\n",
            "Epoch 21/50\n",
            "4/4 [==============================] - 0s 84ms/step - loss: 0.7731 - accuracy: 0.6857 - val_loss: 0.8882 - val_accuracy: 0.6489\n",
            "Epoch 22/50\n",
            "4/4 [==============================] - 0s 101ms/step - loss: 0.7596 - accuracy: 0.7003 - val_loss: 0.8906 - val_accuracy: 0.6489\n",
            "Epoch 23/50\n",
            "4/4 [==============================] - 0s 132ms/step - loss: 0.7458 - accuracy: 0.6997 - val_loss: 0.8699 - val_accuracy: 0.6542\n",
            "Epoch 24/50\n",
            "4/4 [==============================] - 2s 469ms/step - loss: 0.7368 - accuracy: 0.7031 - val_loss: 0.8912 - val_accuracy: 0.6288\n",
            "Epoch 25/50\n",
            "4/4 [==============================] - 2s 572ms/step - loss: 0.7415 - accuracy: 0.6951 - val_loss: 0.8714 - val_accuracy: 0.6609\n",
            "Epoch 26/50\n",
            "4/4 [==============================] - 1s 297ms/step - loss: 0.7215 - accuracy: 0.7088 - val_loss: 0.8933 - val_accuracy: 0.6542\n",
            "Epoch 27/50\n",
            "4/4 [==============================] - 2s 568ms/step - loss: 0.7074 - accuracy: 0.7234 - val_loss: 0.8849 - val_accuracy: 0.6502\n",
            "Epoch 28/50\n",
            "4/4 [==============================] - 2s 557ms/step - loss: 0.7027 - accuracy: 0.7163 - val_loss: 0.8955 - val_accuracy: 0.6395\n",
            "Epoch 29/50\n",
            "4/4 [==============================] - 2s 379ms/step - loss: 0.7063 - accuracy: 0.7103 - val_loss: 0.8970 - val_accuracy: 0.6262\n",
            "Epoch 30/50\n",
            "4/4 [==============================] - 0s 73ms/step - loss: 0.6970 - accuracy: 0.7109 - val_loss: 0.9242 - val_accuracy: 0.6182\n",
            "Epoch 31/50\n",
            "4/4 [==============================] - 2s 512ms/step - loss: 0.6881 - accuracy: 0.7171 - val_loss: 0.8667 - val_accuracy: 0.6502\n",
            "Epoch 32/50\n",
            "4/4 [==============================] - 2s 580ms/step - loss: 0.6657 - accuracy: 0.7421 - val_loss: 0.8732 - val_accuracy: 0.6395\n",
            "Epoch 33/50\n",
            "4/4 [==============================] - 2s 408ms/step - loss: 0.6742 - accuracy: 0.7303 - val_loss: 0.8462 - val_accuracy: 0.6742\n",
            "Epoch 34/50\n",
            "4/4 [==============================] - 0s 76ms/step - loss: 0.6480 - accuracy: 0.7478 - val_loss: 0.8738 - val_accuracy: 0.6462\n",
            "Epoch 35/50\n",
            "4/4 [==============================] - 0s 70ms/step - loss: 0.6363 - accuracy: 0.7532 - val_loss: 0.8506 - val_accuracy: 0.6769\n",
            "Epoch 36/50\n",
            "4/4 [==============================] - 2s 588ms/step - loss: 0.6212 - accuracy: 0.7607 - val_loss: 0.8360 - val_accuracy: 0.6822\n",
            "Epoch 37/50\n",
            "4/4 [==============================] - 2s 591ms/step - loss: 0.6070 - accuracy: 0.7610 - val_loss: 0.8343 - val_accuracy: 0.6649\n",
            "Epoch 38/50\n",
            "4/4 [==============================] - 1s 209ms/step - loss: 0.5968 - accuracy: 0.7721 - val_loss: 0.8333 - val_accuracy: 0.6876\n",
            "Epoch 39/50\n",
            "4/4 [==============================] - 0s 81ms/step - loss: 0.5855 - accuracy: 0.7730 - val_loss: 0.8321 - val_accuracy: 0.6929\n",
            "Epoch 40/50\n",
            "4/4 [==============================] - 2s 624ms/step - loss: 0.5947 - accuracy: 0.7595 - val_loss: 0.8646 - val_accuracy: 0.6555\n",
            "Epoch 41/50\n",
            "4/4 [==============================] - 3s 735ms/step - loss: 0.5892 - accuracy: 0.7638 - val_loss: 0.8415 - val_accuracy: 0.6836\n",
            "Epoch 42/50\n",
            "4/4 [==============================] - 1s 153ms/step - loss: 0.5600 - accuracy: 0.7787 - val_loss: 0.8334 - val_accuracy: 0.6756\n",
            "Epoch 43/50\n",
            "4/4 [==============================] - 0s 92ms/step - loss: 0.5538 - accuracy: 0.7904 - val_loss: 0.8373 - val_accuracy: 0.6849\n",
            "Epoch 44/50\n",
            "4/4 [==============================] - 2s 664ms/step - loss: 0.5616 - accuracy: 0.7861 - val_loss: 0.8707 - val_accuracy: 0.6449\n",
            "Epoch 45/50\n",
            "4/4 [==============================] - 2s 599ms/step - loss: 0.5636 - accuracy: 0.7807 - val_loss: 0.9240 - val_accuracy: 0.6462\n",
            "Epoch 46/50\n",
            "4/4 [==============================] - 1s 190ms/step - loss: 0.5791 - accuracy: 0.7684 - val_loss: 0.8701 - val_accuracy: 0.6636\n",
            "Epoch 47/50\n",
            "4/4 [==============================] - 0s 145ms/step - loss: 0.5514 - accuracy: 0.7778 - val_loss: 0.8910 - val_accuracy: 0.6582\n",
            "Epoch 48/50\n",
            "4/4 [==============================] - 2s 565ms/step - loss: 0.5576 - accuracy: 0.7827 - val_loss: 0.8440 - val_accuracy: 0.6769\n",
            "Epoch 49/50\n",
            "4/4 [==============================] - 3s 724ms/step - loss: 0.5319 - accuracy: 0.7844 - val_loss: 0.8822 - val_accuracy: 0.6822\n",
            "Epoch 50/50\n",
            "4/4 [==============================] - 1s 142ms/step - loss: 0.5232 - accuracy: 0.7950 - val_loss: 0.8430 - val_accuracy: 0.7036\n",
            "CPU times: user 1min 44s, sys: 3.29 s, total: 1min 47s\n",
            "Wall time: 52.5 s\n"
          ]
        },
        {
          "data": {
            "text/plain": [
              "<keras.callbacks.History at 0x7fd1c03b6d60>"
            ]
          },
          "execution_count": 13,
          "metadata": {},
          "output_type": "execute_result"
        }
      ],
      "source": [
        "%%time\n",
        "model.fit(\n",
        "    X_train, \n",
        "    y_train_oh,\n",
        "    batch_size=1024, \n",
        "    epochs=50,\n",
        "    validation_data=(X_val, y_val_oh),\n",
        ")"
      ]
    },
    {
      "cell_type": "markdown",
      "metadata": {
        "id": "sSXMlIqVXM5x"
      },
      "source": [
        "## Evaluación del modelo"
      ]
    },
    {
      "cell_type": "markdown",
      "metadata": {
        "id": "AzSN6grQqUkx"
      },
      "source": [
        "Evalua la función de perdida (entropia cruzada) y la exactitud del modelo utilziando los datos de prueba."
      ]
    },
    {
      "cell_type": "code",
      "execution_count": 14,
      "metadata": {
        "colab": {
          "base_uri": "https://localhost:8080/"
        },
        "id": "xU796pYkbodl",
        "outputId": "8f7d9e5c-8ea6-482a-c012-4f954e82ed20"
      },
      "outputs": [
        {
          "name": "stdout",
          "output_type": "stream",
          "text": [
            "24/24 [==============================] - 0s 3ms/step - loss: 0.8921 - accuracy: 0.6702\n",
            "loss: 0.89\n",
            "acc: 0.67\n"
          ]
        }
      ],
      "source": [
        "loss, acc = model.evaluate(x=X_test,y=y_test_oh)\n",
        "print(\"loss: %.2f\" % loss)\n",
        "print(\"acc: %.2f\" % acc)\n"
      ]
    },
    {
      "cell_type": "code",
      "execution_count": 15,
      "metadata": {
        "colab": {
          "base_uri": "https://localhost:8080/"
        },
        "id": "3NBE7zV6cmNV",
        "outputId": "91246a47-4744-41b1-b805-9244c276f137"
      },
      "outputs": [
        {
          "data": {
            "text/plain": [
              "(749, 4)"
            ]
          },
          "execution_count": 15,
          "metadata": {},
          "output_type": "execute_result"
        }
      ],
      "source": [
        "predictions = model.predict(X_test)\n",
        "predictions.shape"
      ]
    },
    {
      "cell_type": "markdown",
      "metadata": {
        "id": "2UyfnBX_qjFT"
      },
      "source": [
        "La clase está definida por $y \\in {1,\\cdots,K}$\n",
        "\n",
        "La clasificación se realza de la siguiente forma\n",
        "$$ y_{pred}(x) = \\operatorname*{argmax}_{k \\in \\{1,\\cdots,K\\}} \\left(a_k(x)\\right)  $$\n",
        "\n",
        "Dónde $a_k$ es cada una de las neuronas de salida de la red, $x$ el vector de entrada.\n",
        "\n",
        "A continuación se calculan tales predicciones."
      ]
    },
    {
      "cell_type": "code",
      "execution_count": 17,
      "metadata": {
        "colab": {
          "base_uri": "https://localhost:8080/"
        },
        "id": "7qpy81FDczAP",
        "outputId": "29ec1326-f9af-4292-b3c3-5a82fd768f2a"
      },
      "outputs": [
        {
          "data": {
            "text/plain": [
              "(749,)"
            ]
          },
          "execution_count": 17,
          "metadata": {},
          "output_type": "execute_result"
        }
      ],
      "source": [
        "y_test_pred = np.argmax(predictions,axis=1)\n",
        "y_test_pred.shape"
      ]
    },
    {
      "cell_type": "markdown",
      "metadata": {
        "id": "ivgKC4TahcAu"
      },
      "source": [
        "### Matriz de confusión"
      ]
    },
    {
      "cell_type": "code",
      "execution_count": 18,
      "metadata": {
        "colab": {
          "base_uri": "https://localhost:8080/",
          "height": 442
        },
        "id": "k-GENAzgggZx",
        "outputId": "c6ef95aa-9b69-4497-daa2-3d4b173d1a7e"
      },
      "outputs": [
        {
          "data": {
            "image/png": "[encoded data removed]",
            "text/plain": [
              "<Figure size 648x504 with 2 Axes>"
            ]
          },
          "metadata": {
            "needs_background": "light"
          },
          "output_type": "display_data"
        }
      ],
      "source": [
        "fig, ax = plt.subplots(figsize=(9,7))\n",
        "cmd = ConfusionMatrixDisplay.from_predictions(y_true=y_test,y_pred=y_test_pred,\n",
        "                                              ax=ax,cmap='PuRd')\n",
        "plt.show()"
      ]
    },
    {
      "cell_type": "markdown",
      "metadata": {
        "id": "2GM-TFW_wmyI"
      },
      "source": [
        "A continuación se imprime un reporte de las metricas más relevantes de la clasificación, las cuales son:\n",
        "\n",
        "- Precisión (precision): $\\frac{tp}{tp + fp}$. La habilidad del clasificador para no etiquetar como positiva una muestra que es negativa.\n",
        "\n",
        "- Exhaustividad (recall): $\\frac{tp}{tp + fn}$. La habilidad del clasificador de encontrar todas las muestras positivas.\n",
        "\n",
        "- Medida F ($F_\\beta$ score): Media armónica de la precisión y exhaustividad, dónde el mejor valor es 1 y el peor 0.\n",
        "\n",
        "[Más información](https://scikit-learn.org/stable/modules/generated/sklearn.metrics.precision_recall_fscore_support.html)"
      ]
    },
    {
      "cell_type": "code",
      "execution_count": 19,
      "metadata": {
        "colab": {
          "base_uri": "https://localhost:8080/"
        },
        "id": "_8GNdbnKno2e",
        "outputId": "ca8b6b76-182d-4dec-d7b6-7ef225afac89"
      },
      "outputs": [
        {
          "name": "stdout",
          "output_type": "stream",
          "text": [
            "              precision    recall  f1-score   support\n",
            "\n",
            "         0.0       0.70      0.59      0.64        95\n",
            "         1.0       0.68      0.89      0.77       306\n",
            "         2.0       0.78      0.44      0.56       183\n",
            "         3.0       0.56      0.58      0.57       165\n",
            "\n",
            "    accuracy                           0.67       749\n",
            "   macro avg       0.68      0.62      0.64       749\n",
            "weighted avg       0.68      0.67      0.66       749\n",
            "\n"
          ]
        }
      ],
      "source": [
        "print(classification_report(y_true=y_test,y_pred=y_test_pred))"
      ]
    },
    {
      "cell_type": "markdown",
      "metadata": {
        "id": "AXJyCqVeZt7U"
      },
      "source": [
        "Por último, el modelo es almacenado."
      ]
    },
    {
      "cell_type": "code",
      "execution_count": null,
      "metadata": {
        "id": "_Jrw5OQsaXyv"
      },
      "outputs": [],
      "source": [
        "model.save(\"BOF_nn_model.h5\")"
      ]
    }
  ],
  "metadata": {
    "accelerator": "GPU",
    "colab": {
      "collapsed_sections": [],
      "name": "RedNeruonalBOF.ipynb",
      "provenance": []
    },
    "kernelspec": {
      "display_name": "Python 3",
      "name": "python3"
    },
    "language_info": {
      "codemirror_mode": {
        "name": "ipython",
        "version": 3
      },
      "file_extension": ".py",
      "mimetype": "text/x-python",
      "name": "python",
      "nbconvert_exporter": "python",
      "pygments_lexer": "ipython3",
      "version": "3.9.10"
    }
  },
  "nbformat": 4,
  "nbformat_minor": 0
}
