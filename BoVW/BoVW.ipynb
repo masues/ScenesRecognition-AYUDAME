{
 "cells": [
  {
   "cell_type": "markdown",
   "metadata": {},
   "source": [
    "# Implementación del esquema de BOF-BoVW para el reconocimiento de escenas"
   ]
  },
  {
   "cell_type": "markdown",
   "metadata": {},
   "source": [
    "## Análisis de datos exploratorio"
   ]
  },
  {
   "cell_type": "code",
   "execution_count": 1,
   "metadata": {},
   "outputs": [
    {
     "name": "stdout",
     "output_type": "stream",
     "text": [
      "/home/mario/Documents/Proyecto_AYUDAME_Testing/BoVW\n"
     ]
    }
   ],
   "source": [
    "!pwd"
   ]
  },
  {
   "cell_type": "code",
   "execution_count": 2,
   "metadata": {},
   "outputs": [],
   "source": [
    "import numpy as np\n",
    "import pickle\n",
    "import matplotlib.pyplot as plt\n",
    "import time\n",
    "import scipy.cluster.vq as vq\n",
    "from sklearn.model_selection import train_test_split\n",
    "from sklearn.preprocessing import StandardScaler\n",
    "from sklearn.decomposition import PCA\n",
    "from sklearn import svm\n",
    "from sklearn.model_selection import GridSearchCV\n",
    "from sklearn.metrics import ConfusionMatrixDisplay, classification_report"
   ]
  },
  {
   "cell_type": "code",
   "execution_count": 3,
   "metadata": {},
   "outputs": [],
   "source": [
    "class_names = np.load(\"Datasets/class_names_02.npy\")\n",
    "pcd_names = np.load(\"Datasets/pcd_names_02.npy\")\n",
    "targets = np.load(\"Datasets/targets_02.npy\")\n",
    "filehandler = open(\"Datasets/bofs_02.bin\", 'rb')\n",
    "bofs = pickle.load(filehandler)\n",
    "filehandler.close()"
   ]
  },
  {
   "cell_type": "code",
   "execution_count": 4,
   "metadata": {},
   "outputs": [
    {
     "data": {
      "text/plain": [
       "array(['chess', 'fire', 'heads', 'office', 'pumpkin', 'redkitchen',\n",
       "       'stairs'], dtype='<U10')"
      ]
     },
     "execution_count": 4,
     "metadata": {},
     "output_type": "execute_result"
    }
   ],
   "source": [
    "class_names"
   ]
  },
  {
   "cell_type": "code",
   "execution_count": 5,
   "metadata": {},
   "outputs": [
    {
     "name": "stdout",
     "output_type": "stream",
     "text": [
      "['frame-000000' 'frame-000001' 'frame-000002']\n",
      "(6494,)\n"
     ]
    }
   ],
   "source": [
    "print(pcd_names[:3])\n",
    "print(pcd_names.shape)"
   ]
  },
  {
   "cell_type": "code",
   "execution_count": 6,
   "metadata": {},
   "outputs": [
    {
     "name": "stdout",
     "output_type": "stream",
     "text": [
      "[0 0 0]\n",
      "(6494,)\n"
     ]
    }
   ],
   "source": [
    "print(targets[:3])\n",
    "print(targets.shape)"
   ]
  },
  {
   "cell_type": "code",
   "execution_count": 7,
   "metadata": {},
   "outputs": [
    {
     "name": "stdout",
     "output_type": "stream",
     "text": [
      "6494\n",
      "(2, 180)\n",
      "(2, 180)\n",
      "(2, 180)\n"
     ]
    }
   ],
   "source": [
    "print(len(bofs))\n",
    "for bof in bofs[:3]:\n",
    "    print(bof.shape)"
   ]
  },
  {
   "cell_type": "code",
   "execution_count": 8,
   "metadata": {},
   "outputs": [
    {
     "data": {
      "text/plain": [
       "(28485, 180)"
      ]
     },
     "execution_count": 8,
     "metadata": {},
     "output_type": "execute_result"
    }
   ],
   "source": [
    "bofs_np = np.vstack(bofs)\n",
    "bofs_np.shape"
   ]
  },
  {
   "cell_type": "code",
   "execution_count": 9,
   "metadata": {},
   "outputs": [
    {
     "name": "stdout",
     "output_type": "stream",
     "text": [
      "{0: 1000, 1: 1000, 2: 994, 3: 1000, 4: 1000, 5: 1000, 6: 500}\n"
     ]
    }
   ],
   "source": [
    "classes,count_classes = np.unique(targets, return_counts=True)\n",
    "class_dict = dict(zip(classes.astype('int'),count_classes))\n",
    "print(class_dict)"
   ]
  },
  {
   "cell_type": "code",
   "execution_count": 11,
   "metadata": {},
   "outputs": [
    {
     "data": {
      "image/png": "[encoded data removed]",
      "text/plain": [
       "<Figure size 720x432 with 1 Axes>"
      ]
     },
     "metadata": {
      "needs_background": "light"
     },
     "output_type": "display_data"
    }
   ],
   "source": [
    "plt.figure(figsize=(10, 6))\n",
    "plt.bar(classes, count_classes,tick_label=class_names)\n",
    "plt.title('Frames')\n",
    "plt.ylabel('Num. Frames')\n",
    "plt.xlabel('Class')\n",
    "plt.show()"
   ]
  },
  {
   "cell_type": "markdown",
   "metadata": {},
   "source": [
    "### División de datos"
   ]
  },
  {
   "cell_type": "code",
   "execution_count": 12,
   "metadata": {},
   "outputs": [],
   "source": [
    "X_train, X_test, y_train, y_test = train_test_split(bofs, targets,\n",
    "    shuffle = True, random_state = 8)"
   ]
  },
  {
   "cell_type": "code",
   "execution_count": 13,
   "metadata": {},
   "outputs": [
    {
     "name": "stdout",
     "output_type": "stream",
     "text": [
      "4870\n"
     ]
    }
   ],
   "source": [
    "print(len(X_train))"
   ]
  },
  {
   "cell_type": "markdown",
   "metadata": {},
   "source": [
    "## BoVW"
   ]
  },
  {
   "cell_type": "code",
   "execution_count": 14,
   "metadata": {},
   "outputs": [],
   "source": [
    "def getCodebook(descriptors_list,k,seed):\n",
    "    descriptors = np.vstack(descriptors_list)\n",
    "    num_samples = descriptors.shape[0]\n",
    "    print(\"Computing kmeans on \"+str(num_samples)+\" samples with \"+str(k)+\" centroids\")\n",
    "    init = time.time()\n",
    "    codebook = vq.kmeans(obs=descriptors,k_or_guess=k,iter=10,seed=seed)[0]\n",
    "    end = time.time()\n",
    "    print(\"Done in \"+str(end-init)+\" secs.\")\n",
    "    return codebook\n",
    "\t\t\t\t\t\t\t\t\t\t\t\t\t\t\t\t\t\t\t\t\t\n",
    "def getBoVWRepresentation(descriptors,k,codebook):\n",
    "    print(\"Extracting visual word representations\")\n",
    "    init = time.time()\n",
    "    num_imgs = len(descriptors)\n",
    "    visual_words = np.zeros((num_imgs,k),dtype=np.float32)\n",
    "    for i in range(num_imgs):\n",
    "        words = vq.vq(descriptors[i],codebook)[0]\n",
    "        visual_words[i,:] = np.bincount(words,minlength=k)\n",
    "    end=time.time()\n",
    "    print(\"Done in \"+str(end-init)+\" secs.\")\n",
    "    return visual_words"
   ]
  },
  {
   "cell_type": "code",
   "execution_count": 16,
   "metadata": {},
   "outputs": [
    {
     "name": "stdout",
     "output_type": "stream",
     "text": [
      "Computing kmeans on 21359 samples with 256 centroids\n",
      "Done in 111.61352181434631 secs.\n"
     ]
    }
   ],
   "source": [
    "k = 256\n",
    "codebook = getCodebook(X_train,k,13)"
   ]
  },
  {
   "cell_type": "code",
   "execution_count": 17,
   "metadata": {},
   "outputs": [],
   "source": [
    "bofs_quantized,bofs_q_dis = vq.vq(np.vstack(X_train),codebook)"
   ]
  },
  {
   "cell_type": "code",
   "execution_count": 19,
   "metadata": {},
   "outputs": [
    {
     "data": {
      "text/plain": [
       "1.4079923409689854"
      ]
     },
     "execution_count": 19,
     "metadata": {},
     "output_type": "execute_result"
    }
   ],
   "source": [
    "np.mean(bofs_q_dis)"
   ]
  },
  {
   "cell_type": "markdown",
   "metadata": {},
   "source": [
    "A continuación se revisa la distribución del vocabulario visual con respecto a las BOF, es decir,\n",
    "por cada palabra en el vocabulario, cuantas BOF asignadas tiene."
   ]
  },
  {
   "cell_type": "code",
   "execution_count": 20,
   "metadata": {},
   "outputs": [],
   "source": [
    "code,count_code = np.unique(bofs_quantized, return_counts=True)\n",
    "code_dic = dict(zip(code,count_code))\n",
    "# print(code_dic)"
   ]
  },
  {
   "cell_type": "code",
   "execution_count": 21,
   "metadata": {},
   "outputs": [
    {
     "data": {
      "image/png": "[encoded data removed]",
      "text/plain": [
       "<Figure size 720x432 with 1 Axes>"
      ]
     },
     "metadata": {
      "needs_background": "light"
     },
     "output_type": "display_data"
    }
   ],
   "source": [
    "plt.figure(figsize=(10, 6))\n",
    "plt.bar(code, count_code)\n",
    "plt.show()"
   ]
  },
  {
   "cell_type": "markdown",
   "metadata": {},
   "source": [
    "### Obtención de la representación BoVW"
   ]
  },
  {
   "cell_type": "code",
   "execution_count": 22,
   "metadata": {},
   "outputs": [
    {
     "name": "stdout",
     "output_type": "stream",
     "text": [
      "Extracting visual word representations\n",
      "Done in 3.323446750640869 secs.\n"
     ]
    },
    {
     "data": {
      "text/plain": [
       "(4870, 256)"
      ]
     },
     "execution_count": 22,
     "metadata": {},
     "output_type": "execute_result"
    }
   ],
   "source": [
    "vw_train = getBoVWRepresentation(X_train,k,codebook)\n",
    "vw_train.shape"
   ]
  },
  {
   "cell_type": "code",
   "execution_count": 23,
   "metadata": {},
   "outputs": [
    {
     "data": {
      "text/plain": [
       "array([0., 0., 0., 0., 0., 0., 0., 0., 0., 0., 0., 0., 0., 0., 0., 0., 0.,\n",
       "       0., 0., 0., 0., 0., 0., 0., 0., 0., 0., 0., 0., 0., 0., 0., 0., 0.,\n",
       "       0., 0., 0., 0., 0., 0., 0., 0., 0., 0., 0., 0., 0., 0., 0., 0., 0.,\n",
       "       0., 0., 0., 0., 0., 0., 0., 0., 0., 0., 0., 0., 0., 0., 0., 0., 0.,\n",
       "       0., 0., 0., 0., 0., 0., 0., 0., 0., 0., 0., 0., 0., 0., 0., 0., 0.,\n",
       "       0., 0., 0., 0., 0., 0., 0., 0., 0., 0., 0., 0., 0., 0., 0., 0., 0.,\n",
       "       0., 0., 0., 0., 0., 0., 0., 0., 0., 0., 0., 0., 0., 0., 0., 0., 0.,\n",
       "       0., 0., 0., 0., 0., 0., 0., 0., 0., 0., 0., 0., 0., 0., 0., 0., 0.,\n",
       "       1., 0., 0., 0., 0., 0., 0., 0., 0., 0., 0., 0., 0., 0., 0., 0., 0.,\n",
       "       0., 0., 0., 0., 0., 0., 0., 0., 0., 0., 0., 0., 0., 0., 0., 0., 0.,\n",
       "       0., 0., 0., 0., 0., 0., 0., 0., 0., 0., 0., 0., 0., 0., 0., 0., 0.,\n",
       "       0., 0., 0., 0., 0., 0., 0., 0., 0., 0., 0., 0., 0., 0., 0., 0., 0.,\n",
       "       0., 0., 0., 0., 0., 0., 0., 0., 0., 0., 0., 0., 0., 0., 0., 1., 0.,\n",
       "       0., 0., 0., 0., 0., 0., 0., 0., 0., 0., 0., 0., 0., 0., 0., 0., 0.,\n",
       "       0., 0., 0., 1., 0., 0., 0., 0., 0., 0., 0., 0., 0., 0., 0., 0., 0.,\n",
       "       0.], dtype=float32)"
      ]
     },
     "execution_count": 23,
     "metadata": {},
     "output_type": "execute_result"
    }
   ],
   "source": [
    "vw_train[0]"
   ]
  },
  {
   "cell_type": "code",
   "execution_count": 24,
   "metadata": {},
   "outputs": [
    {
     "name": "stdout",
     "output_type": "stream",
     "text": [
      "Extracting visual word representations\n",
      "Done in 1.1916024684906006 secs.\n"
     ]
    },
    {
     "data": {
      "text/plain": [
       "(1624, 256)"
      ]
     },
     "execution_count": 24,
     "metadata": {},
     "output_type": "execute_result"
    }
   ],
   "source": [
    "vw_test = getBoVWRepresentation(X_test,k,codebook)\n",
    "vw_test.shape"
   ]
  },
  {
   "cell_type": "markdown",
   "metadata": {},
   "source": [
    "## Preprocesamiento de datos\n",
    "### Estandarización de datos"
   ]
  },
  {
   "cell_type": "code",
   "execution_count": 25,
   "metadata": {},
   "outputs": [
    {
     "data": {
      "text/plain": [
       "array([-0.16410702, -0.15691769, -0.12336063, -0.14472017, -0.1163081 ,\n",
       "       -0.11534987, -0.1491912 , -0.08853788, -0.10978706, -0.14404988,\n",
       "       -0.07183285, -0.07037427, -0.10595804, -0.14916505, -0.14319703,\n",
       "       -0.14757639, -0.10315029, -0.12923414, -0.13515486, -0.1198833 ,\n",
       "       -0.15698288, -0.16429496, -0.17519614, -0.08868054, -0.09657342,\n",
       "       -0.15484515, -0.16327095, -0.14333475, -0.15342523, -0.12163367,\n",
       "       -0.12674814, -0.08384869, -0.11074097, -0.13005291, -0.15760304,\n",
       "       -0.16688593, -0.13792118, -0.11539796, -0.12372342, -0.10978706,\n",
       "       -0.14467269, -0.1469928 , -0.11145706, -0.12845029, -0.09438339,\n",
       "       -0.15758061, -0.1254151 , -0.1407337 , -0.1618385 , -0.11400734,\n",
       "       -0.08003926, -0.1163081 , -0.11080127, -0.08003926, -0.16363466,\n",
       "       -0.09871662, -0.12006628, -0.1018501 , -0.12758185, -0.11074097,\n",
       "       -0.100816  , -0.11636066, -0.15069562, -0.16700554, -0.07905898,\n",
       "       -0.10871784, -0.1715592 , -0.09871662, -0.13086691, -0.09548446,\n",
       "       -0.10687675, -0.08132837, -0.04302872, -0.1598408 , -0.12758185,\n",
       "       -0.1198833 , -0.12076148, -0.14001237, -0.11448095, -0.1387621 ,\n",
       "       -0.1340768 , -0.11904831, -0.09944038, -0.09326979, -0.09657342,\n",
       "       -0.16502956, -0.1259093 , -0.10489375, -0.14108124, -0.08508163,\n",
       "       -0.12250001, -0.13341829, -0.14854644, -0.10978706, -0.13811627,\n",
       "       -0.17446981, -0.14032269, -0.15894388, -0.08984911, -0.1198833 ,\n",
       "       -0.13794078, -0.1018501 , -0.10687675, -0.14258721, -0.12841047,\n",
       "       -0.14626215, -0.10287423, -0.13167621, -0.12845029, -0.11376876,\n",
       "       -0.07037427, -0.12457191, -0.1527472 , -0.12163367, -0.12758185,\n",
       "       -0.11146849, -0.17642075, -0.13486816, -0.1079201 , -0.08553599,\n",
       "       -0.13486816, -0.12164626, -0.11190864, -0.13565522, -0.06421613,\n",
       "       -0.13116439, -0.1163081 , -0.16228886, -0.13331693, -0.0760443 ,\n",
       "       -0.06258369, -0.1088252 , -0.10523525, -0.02482733, -0.1138453 ,\n",
       "       -0.14782375,  7.9958324 , -0.1259093 , -0.07739831, -0.12791389,\n",
       "       -0.1603796 , -0.12510802, -0.12522829, -0.08629744, -0.09548446,\n",
       "       -0.1163081 , -0.10687675, -0.14029163, -0.10819351, -0.08259788,\n",
       "       -0.1825743 , -0.14029163, -0.12923414, -0.11448095, -0.1259093 ,\n",
       "       -0.10315029, -0.16050912, -0.15717043, -0.11096761, -0.15412484,\n",
       "       -0.13167621, -0.10287423, -0.10588969, -0.0801876 , -0.13181804,\n",
       "       -0.13517009, -0.09100316, -0.14950539, -0.13902794, -0.11810849,\n",
       "       -0.12080877, -0.01433112, -0.16562799, -0.15901442, -0.15140586,\n",
       "       -0.1435495 , -0.12595136, -0.13716577, -0.15902874, -0.09773637,\n",
       "       -0.14563611, -0.16758037, -0.12337026, -0.18821216, -0.12421563,\n",
       "       -0.09977162, -0.17710182, -0.09447758, -0.1259093 , -0.11268323,\n",
       "       -0.1387621 , -0.05369387, -0.09557566, -0.13086691, -0.09138469,\n",
       "       -0.09666179, -0.07872958, -0.16900972, -0.11355692, -0.16560845,\n",
       "       -0.10978706, -0.10167253, -0.10489375, -0.14029163, -0.12336063,\n",
       "       -0.10888852, -0.08868054, -0.1433055 , -0.11168712, -0.12113072,\n",
       "       -0.08749686, -0.14404988, -0.14255753, -0.08629744, -0.16502956,\n",
       "       -0.11899902, -0.1609904 , -0.0760443 , -0.13515486,  5.770249  ,\n",
       "       -0.13568936, -0.16248187, -0.1259093 , -0.10348172, -0.13181825,\n",
       "       -0.12163367, -0.12674814, -0.10489375, -0.11376876, -0.13879412,\n",
       "       -0.14844419, -0.13490285, -0.11262571, -0.1629924 , -0.09657342,\n",
       "       -0.11810849, -0.1088252 , -0.11168712, -0.1715592 , -0.10955696,\n",
       "       -0.13799144,  8.953584  , -0.13811627, -0.12352996, -0.17992383,\n",
       "       -0.11810849, -0.10785517, -0.16387749, -0.15484515, -0.16743505,\n",
       "       -0.12674814, -0.17517942, -0.13167621, -0.12674814, -0.12758185,\n",
       "       -0.17245826], dtype=float32)"
      ]
     },
     "execution_count": 25,
     "metadata": {},
     "output_type": "execute_result"
    }
   ],
   "source": [
    "stdSlr = StandardScaler()\n",
    "train = vw_train\n",
    "train = stdSlr.fit_transform(train)\n",
    "train[0]"
   ]
  },
  {
   "cell_type": "code",
   "execution_count": 26,
   "metadata": {},
   "outputs": [],
   "source": [
    "test = vw_test\n",
    "test = stdSlr.transform(test)"
   ]
  },
  {
   "cell_type": "markdown",
   "metadata": {},
   "source": [
    "### Análisis de componentes principales"
   ]
  },
  {
   "cell_type": "code",
   "execution_count": 42,
   "metadata": {},
   "outputs": [
    {
     "data": {
      "text/plain": [
       "array([0.01595764, 0.01271896, 0.01231668, 0.01208354, 0.01119396,\n",
       "       0.01073583, 0.01031986, 0.01022761, 0.01012168, 0.00969572,\n",
       "       0.00954958, 0.00921163, 0.00898627, 0.00885287, 0.00872653,\n",
       "       0.00853367, 0.00824769, 0.00802489, 0.00790226, 0.00781044,\n",
       "       0.00762845, 0.00755407, 0.00749582, 0.00743713, 0.00732017,\n",
       "       0.00726952, 0.00719905, 0.00715686, 0.00708885, 0.00704312,\n",
       "       0.00698117, 0.00689769, 0.00683015, 0.00681463, 0.00665566,\n",
       "       0.00660332, 0.00651685, 0.00645714, 0.00638369, 0.0063318 ,\n",
       "       0.00629803, 0.00626778, 0.00622336, 0.00618919, 0.00615086,\n",
       "       0.0061149 , 0.00603805, 0.00602054, 0.00595657, 0.00589405,\n",
       "       0.00584516, 0.00579931, 0.00579131, 0.00573451, 0.00570978,\n",
       "       0.00566268, 0.00560241, 0.00556357, 0.00553517, 0.00547057,\n",
       "       0.0054405 , 0.00541411, 0.00538286, 0.00531439, 0.00527839,\n",
       "       0.00522586, 0.00517931, 0.00515571, 0.00512678, 0.00508629,\n",
       "       0.0050748 , 0.00503695, 0.00502622, 0.00500315, 0.00494485,\n",
       "       0.0049324 , 0.00491804, 0.00485724, 0.0047898 , 0.00474979,\n",
       "       0.00471293, 0.00470788, 0.00466132, 0.0046106 , 0.00460632,\n",
       "       0.00459981, 0.00456222, 0.00452041, 0.0044931 , 0.00445279,\n",
       "       0.00444381, 0.00443765, 0.00438849, 0.00438039, 0.00435236,\n",
       "       0.00433248, 0.00431223, 0.00429354, 0.00426978, 0.00424985,\n",
       "       0.00421914, 0.00420727, 0.00418468, 0.00416052, 0.00415284,\n",
       "       0.00414391, 0.00411427, 0.00408387, 0.00404531, 0.0040384 ,\n",
       "       0.00400722, 0.00399622, 0.00396048, 0.00395647, 0.00390434,\n",
       "       0.00389078, 0.00388734, 0.00387029, 0.00383237, 0.00380375,\n",
       "       0.00378988, 0.00377708, 0.00375138, 0.00373512, 0.00372077,\n",
       "       0.0036894 , 0.00364996, 0.00363598, 0.00359552, 0.00355461,\n",
       "       0.00354193, 0.00350671, 0.00347564, 0.00344959, 0.00342229,\n",
       "       0.00338898, 0.00336953, 0.00334573, 0.00331007, 0.00330265,\n",
       "       0.00327271, 0.0032346 , 0.00320692, 0.00319151, 0.00316771,\n",
       "       0.00314871, 0.00314743, 0.00312529, 0.00309524, 0.00306375,\n",
       "       0.00304451, 0.00299938, 0.00295689, 0.00294102, 0.00290307,\n",
       "       0.00288903, 0.00282734, 0.00281108, 0.00280547, 0.0027722 ,\n",
       "       0.0027432 , 0.00271861, 0.00270224, 0.00267588, 0.00264793,\n",
       "       0.00261085, 0.00259403, 0.00253999, 0.0025228 , 0.00250512,\n",
       "       0.00245894, 0.00244632, 0.00241932, 0.00237863, 0.00236387,\n",
       "       0.00232696, 0.00230042, 0.00226277, 0.00224004, 0.0022299 ,\n",
       "       0.00219581, 0.00219256, 0.00213098, 0.00209735, 0.00208261,\n",
       "       0.00203093, 0.00200356, 0.00197479, 0.00193897, 0.0019023 ,\n",
       "       0.00186374, 0.00183124, 0.00181956, 0.00179973, 0.00177602,\n",
       "       0.00175499, 0.00171042, 0.00168397, 0.0016779 , 0.00163989,\n",
       "       0.00159186, 0.00155645, 0.00152659, 0.00151544, 0.00148303,\n",
       "       0.00145228, 0.00143547, 0.00140973, 0.00139549, 0.00135157,\n",
       "       0.00134921, 0.00130852, 0.00128395, 0.00127666, 0.00124669,\n",
       "       0.00123659, 0.00119078, 0.00114915, 0.00112937, 0.00112337,\n",
       "       0.00108813, 0.00106904, 0.00102564, 0.0010035 , 0.00098639,\n",
       "       0.00097804, 0.00096163, 0.00094311, 0.00088746, 0.00087295,\n",
       "       0.00086373, 0.00081677, 0.00078101, 0.00076866, 0.00073721,\n",
       "       0.00073284, 0.00071603, 0.00066589, 0.00065454, 0.00062978,\n",
       "       0.00061263, 0.00058282, 0.00055756, 0.00053266, 0.00047268,\n",
       "       0.00043052, 0.00041453, 0.00036429, 0.00034286, 0.00030816,\n",
       "       0.00029291, 0.00027748, 0.00021906, 0.00018625, 0.00013413,\n",
       "       0.00013006], dtype=float32)"
      ]
     },
     "execution_count": 42,
     "metadata": {},
     "output_type": "execute_result"
    }
   ],
   "source": [
    "pca = PCA()\n",
    "pca.fit(train)\n",
    "pca.explained_variance_ratio_"
   ]
  },
  {
   "cell_type": "code",
   "execution_count": 24,
   "metadata": {},
   "outputs": [
    {
     "data": {
      "image/png": "[encoded data removed]",
      "text/plain": [
       "<Figure size 936x432 with 1 Axes>"
      ]
     },
     "metadata": {
      "needs_background": "light"
     },
     "output_type": "display_data"
    }
   ],
   "source": [
    "cum_var = np.cumsum(pca.explained_variance_ratio_)\n",
    "plt.figure(figsize=(13,6))\n",
    "plt.plot(cum_var)\n",
    "plt.xlabel('Features')\n",
    "plt.ylabel('Cumulated variance')\n",
    "plt.grid()\n",
    "plt.show()"
   ]
  },
  {
   "cell_type": "code",
   "execution_count": 25,
   "metadata": {},
   "outputs": [
    {
     "data": {
      "text/plain": [
       "0.8783105"
      ]
     },
     "execution_count": 25,
     "metadata": {},
     "output_type": "execute_result"
    }
   ],
   "source": [
    "cum_var[89]"
   ]
  },
  {
   "cell_type": "code",
   "execution_count": 26,
   "metadata": {},
   "outputs": [
    {
     "data": {
      "text/plain": [
       "(1146, 90)"
      ]
     },
     "execution_count": 26,
     "metadata": {},
     "output_type": "execute_result"
    }
   ],
   "source": [
    "train_red = pca.transform(train)\n",
    "train_red = train_red[:,:90]\n",
    "train_red.shape"
   ]
  },
  {
   "cell_type": "code",
   "execution_count": 27,
   "metadata": {},
   "outputs": [
    {
     "data": {
      "text/plain": [
       "(382, 90)"
      ]
     },
     "execution_count": 27,
     "metadata": {},
     "output_type": "execute_result"
    }
   ],
   "source": [
    "test_red = pca.transform(test)\n",
    "test_red = test_red[:,:90]\n",
    "test_red.shape"
   ]
  },
  {
   "cell_type": "markdown",
   "metadata": {},
   "source": [
    "## Clasificación"
   ]
  },
  {
   "cell_type": "code",
   "execution_count": 34,
   "metadata": {},
   "outputs": [
    {
     "name": "stdout",
     "output_type": "stream",
     "text": [
      "{'C': 5.5600000000000005, 'kernel': 'rbf'}\n",
      "CPU times: user 6min, sys: 570 ms, total: 6min\n",
      "Wall time: 6min 7s\n"
     ]
    }
   ],
   "source": [
    "%%time\n",
    "folds=5\n",
    "start=0.01\n",
    "end=10\n",
    "numparams=10\n",
    "\n",
    "tuned_parameters = [{'kernel': ['rbf'], 'C':np.linspace(start,end,num=numparams)}]\n",
    "# tuned_parameters = [{'kernel': [\"linear\", \"poly\", \"rbf\", \"sigmoid\"], 'C':[1]}]\n",
    "clf = GridSearchCV(svm.SVC(), tuned_parameters, cv=folds,scoring='accuracy')\n",
    "clf.fit(train, y_train)\n",
    "print(clf.best_params_)"
   ]
  },
  {
   "cell_type": "code",
   "execution_count": 36,
   "metadata": {},
   "outputs": [
    {
     "name": "stdout",
     "output_type": "stream",
     "text": [
      "CPU times: user 6.79 s, sys: 101 ms, total: 6.89 s\n",
      "Wall time: 7.09 s\n"
     ]
    }
   ],
   "source": [
    "%%time\n",
    "classifier = svm.SVC(C=5.56,kernel='rbf').fit(train,y_train)"
   ]
  },
  {
   "cell_type": "code",
   "execution_count": 37,
   "metadata": {},
   "outputs": [
    {
     "data": {
      "text/plain": [
       "99.87679671457906"
      ]
     },
     "execution_count": 37,
     "metadata": {},
     "output_type": "execute_result"
    }
   ],
   "source": [
    "100*classifier.score(train, y_train)\n",
    "# 100*clf.score(train, y_train) # 91.62303665 with pca, 90 features"
   ]
  },
  {
   "cell_type": "code",
   "execution_count": 38,
   "metadata": {},
   "outputs": [
    {
     "data": {
      "text/plain": [
       "94.70443349753694"
      ]
     },
     "execution_count": 38,
     "metadata": {},
     "output_type": "execute_result"
    }
   ],
   "source": [
    "100*classifier.score(test, y_test)\n",
    "# 100*clf.score(test, y_test)\n",
    "# 77.48691099 with pca, 90 features, 128 words\n",
    "# 79.3193 with 512 words, C=2.0768"
   ]
  },
  {
   "cell_type": "markdown",
   "metadata": {},
   "source": [
    "## Validación de resultados"
   ]
  },
  {
   "cell_type": "code",
   "execution_count": 39,
   "metadata": {},
   "outputs": [],
   "source": [
    "test_pred = classifier.predict(test)"
   ]
  },
  {
   "cell_type": "code",
   "execution_count": 40,
   "metadata": {},
   "outputs": [
    {
     "data": {
      "image/png": "[encoded data removed]",
      "text/plain": [
       "<Figure size 648x504 with 2 Axes>"
      ]
     },
     "metadata": {
      "needs_background": "light"
     },
     "output_type": "display_data"
    }
   ],
   "source": [
    "fig, ax = plt.subplots(figsize=(9,7))\n",
    "cmd = ConfusionMatrixDisplay.from_predictions(y_true=y_test,y_pred=test_pred,\n",
    "                                              ax=ax,cmap='PuRd',display_labels=class_names)\n",
    "plt.show()"
   ]
  },
  {
   "cell_type": "code",
   "execution_count": 41,
   "metadata": {},
   "outputs": [
    {
     "name": "stdout",
     "output_type": "stream",
     "text": [
      "              precision    recall  f1-score   support\n",
      "\n",
      "           0       0.94      0.94      0.94       263\n",
      "           1       0.94      0.97      0.96       235\n",
      "           2       0.95      0.93      0.94       253\n",
      "           3       0.93      0.91      0.92       254\n",
      "           4       0.95      0.96      0.95       249\n",
      "           5       0.96      0.96      0.96       250\n",
      "           6       0.98      0.98      0.98       120\n",
      "\n",
      "    accuracy                           0.95      1624\n",
      "   macro avg       0.95      0.95      0.95      1624\n",
      "weighted avg       0.95      0.95      0.95      1624\n",
      "\n"
     ]
    }
   ],
   "source": [
    "print(classification_report(y_true=y_test,y_pred=test_pred))"
   ]
  },
  {
   "cell_type": "markdown",
   "metadata": {},
   "source": [
    "## Persistencia del modelo\n",
    "Para la persistencia del modelo se utiliza `joblib`, que es una implemenatción más eficiente de pickle."
   ]
  },
  {
   "cell_type": "code",
   "execution_count": 42,
   "metadata": {},
   "outputs": [],
   "source": [
    "from joblib import dump, load"
   ]
  },
  {
   "cell_type": "markdown",
   "metadata": {},
   "source": [
    "Se utiliza `dump` para almacenar el modelo."
   ]
  },
  {
   "cell_type": "code",
   "execution_count": 43,
   "metadata": {},
   "outputs": [
    {
     "data": {
      "text/plain": [
       "['model01.joblib']"
      ]
     },
     "execution_count": 43,
     "metadata": {},
     "output_type": "execute_result"
    }
   ],
   "source": [
    "dump(classifier, 'model01.joblib')"
   ]
  },
  {
   "cell_type": "markdown",
   "metadata": {},
   "source": [
    "Se utiliza `load` para leerlo."
   ]
  },
  {
   "cell_type": "code",
   "execution_count": 45,
   "metadata": {},
   "outputs": [],
   "source": [
    "clf = load('model01.joblib')"
   ]
  },
  {
   "cell_type": "code",
   "execution_count": 46,
   "metadata": {},
   "outputs": [
    {
     "data": {
      "text/plain": [
       "{'C': 5.56,\n",
       " 'break_ties': False,\n",
       " 'cache_size': 200,\n",
       " 'class_weight': None,\n",
       " 'coef0': 0.0,\n",
       " 'decision_function_shape': 'ovr',\n",
       " 'degree': 3,\n",
       " 'gamma': 'scale',\n",
       " 'kernel': 'rbf',\n",
       " 'max_iter': -1,\n",
       " 'probability': False,\n",
       " 'random_state': None,\n",
       " 'shrinking': True,\n",
       " 'tol': 0.001,\n",
       " 'verbose': False}"
      ]
     },
     "execution_count": 46,
     "metadata": {},
     "output_type": "execute_result"
    }
   ],
   "source": [
    "clf.get_params()"
   ]
  }
 ],
 "metadata": {
  "kernelspec": {
   "display_name": "Python 3.9.13 ('rgbd')",
   "language": "python",
   "name": "python3"
  },
  "language_info": {
   "codemirror_mode": {
    "name": "ipython",
    "version": 3
   },
   "file_extension": ".py",
   "mimetype": "text/x-python",
   "name": "python",
   "nbconvert_exporter": "python",
   "pygments_lexer": "ipython3",
   "version": "3.9.13"
  },
  "orig_nbformat": 4,
  "vscode": {
   "interpreter": {
    "hash": "3f0822e95089ef0e47302329ecab0c072afaf29e3bd77cbe2eee5700300d1247"
   }
  }
 },
 "nbformat": 4,
 "nbformat_minor": 2
}
