{
 "cells": [
  {
   "cell_type": "markdown",
   "metadata": {},
   "source": [
    "# Implementación del esquema de BOF-BoVW para el reconocimiento de escenas"
   ]
  },
  {
   "cell_type": "markdown",
   "metadata": {},
   "source": [
    "## Análisis de datos exploratorio"
   ]
  },
  {
   "cell_type": "code",
   "execution_count": 1,
   "metadata": {},
   "outputs": [
    {
     "name": "stdout",
     "output_type": "stream",
     "text": [
      "/home/mario/Documents/ScenesRecognition-AYUDAME/BoVW\n"
     ]
    }
   ],
   "source": [
    "!pwd"
   ]
  },
  {
   "cell_type": "code",
   "execution_count": 2,
   "metadata": {},
   "outputs": [],
   "source": [
    "import numpy as np\n",
    "import pickle\n",
    "import matplotlib.pyplot as plt\n",
    "import time\n",
    "import scipy.cluster.vq as vq\n",
    "from sklearn.model_selection import train_test_split\n",
    "from sklearn.preprocessing import StandardScaler\n",
    "from sklearn.decomposition import PCA\n",
    "from sklearn import svm\n",
    "from sklearn.model_selection import GridSearchCV\n",
    "from sklearn.metrics import ConfusionMatrixDisplay, classification_report\n",
    "from joblib import dump, load\n",
    "from BoVW import *"
   ]
  },
  {
   "cell_type": "code",
   "execution_count": 3,
   "metadata": {},
   "outputs": [],
   "source": [
    "class_names = np.load(\"Datasets/data04/class_names_04.npy\")\n",
    "pcd_names = np.load(\"Datasets/data04/pcd_names_04.npy\")\n",
    "targets = np.load(\"Datasets/data04/targets_04.npy\")\n",
    "filehandler = open(\"Datasets/data04/bofs_04.bin\", 'rb')\n",
    "bofs = pickle.load(filehandler)\n",
    "filehandler.close()"
   ]
  },
  {
   "cell_type": "code",
   "execution_count": 4,
   "metadata": {},
   "outputs": [
    {
     "data": {
      "text/plain": [
       "array(['chess', 'fire', 'heads', 'office', 'pumpkin', 'redkitchen',\n",
       "       'stairs'], dtype='<U10')"
      ]
     },
     "execution_count": 4,
     "metadata": {},
     "output_type": "execute_result"
    }
   ],
   "source": [
    "class_names"
   ]
  },
  {
   "cell_type": "code",
   "execution_count": 5,
   "metadata": {},
   "outputs": [
    {
     "name": "stdout",
     "output_type": "stream",
     "text": [
      "['frame-000000' 'frame-000001' 'frame-000002']\n",
      "(6500,)\n"
     ]
    }
   ],
   "source": [
    "print(pcd_names[:3])\n",
    "print(pcd_names.shape)"
   ]
  },
  {
   "cell_type": "code",
   "execution_count": 6,
   "metadata": {},
   "outputs": [
    {
     "name": "stdout",
     "output_type": "stream",
     "text": [
      "[0 0 0]\n",
      "(6500,)\n"
     ]
    }
   ],
   "source": [
    "print(targets[:3])\n",
    "print(targets.shape)"
   ]
  },
  {
   "cell_type": "code",
   "execution_count": 7,
   "metadata": {},
   "outputs": [
    {
     "name": "stdout",
     "output_type": "stream",
     "text": [
      "6500\n",
      "(1, 180)\n",
      "(1, 180)\n",
      "(1, 180)\n"
     ]
    }
   ],
   "source": [
    "print(len(bofs))\n",
    "for bof in bofs[:3]:\n",
    "    print(bof.shape)"
   ]
  },
  {
   "cell_type": "code",
   "execution_count": 8,
   "metadata": {},
   "outputs": [
    {
     "data": {
      "text/plain": [
       "(19244, 180)"
      ]
     },
     "execution_count": 8,
     "metadata": {},
     "output_type": "execute_result"
    }
   ],
   "source": [
    "bofs_np = np.vstack(bofs)\n",
    "bofs_np.shape"
   ]
  },
  {
   "cell_type": "code",
   "execution_count": 9,
   "metadata": {},
   "outputs": [
    {
     "name": "stdout",
     "output_type": "stream",
     "text": [
      "{0: 1000, 1: 1000, 2: 1000, 3: 1000, 4: 1000, 5: 1000, 6: 500}\n"
     ]
    }
   ],
   "source": [
    "classes,count_classes = np.unique(targets, return_counts=True)\n",
    "class_dict = dict(zip(classes.astype('int'),count_classes))\n",
    "print(class_dict)"
   ]
  },
  {
   "cell_type": "code",
   "execution_count": 10,
   "metadata": {},
   "outputs": [
    {
     "data": {
      "image/png": "[encoded data removed]",
      "text/plain": [
       "<Figure size 720x432 with 1 Axes>"
      ]
     },
     "metadata": {
      "needs_background": "light"
     },
     "output_type": "display_data"
    }
   ],
   "source": [
    "plt.figure(figsize=(10, 6))\n",
    "plt.bar(classes, count_classes,tick_label=class_names)\n",
    "plt.title('Frames')\n",
    "plt.ylabel('Num. Frames')\n",
    "plt.xlabel('Class')\n",
    "plt.show()"
   ]
  },
  {
   "cell_type": "markdown",
   "metadata": {},
   "source": [
    "### División de datos"
   ]
  },
  {
   "cell_type": "code",
   "execution_count": 11,
   "metadata": {},
   "outputs": [],
   "source": [
    "X_train, X_test, y_train, y_test = train_test_split(bofs, targets,\n",
    "    shuffle = True, random_state = 8)"
   ]
  },
  {
   "cell_type": "code",
   "execution_count": 12,
   "metadata": {},
   "outputs": [
    {
     "name": "stdout",
     "output_type": "stream",
     "text": [
      "4875\n"
     ]
    }
   ],
   "source": [
    "print(len(X_train))"
   ]
  },
  {
   "cell_type": "markdown",
   "metadata": {},
   "source": [
    "## BoVW"
   ]
  },
  {
   "cell_type": "code",
   "execution_count": 13,
   "metadata": {},
   "outputs": [
    {
     "name": "stdout",
     "output_type": "stream",
     "text": [
      "Computing kmeans on 14484 samples with 256 centroids\n",
      "The codebook generation took 83.491086[s] CPU, 12.641538[s] real\n"
     ]
    }
   ],
   "source": [
    "k = 256\n",
    "codebook = getCodebook(X_train,k,None,13)"
   ]
  },
  {
   "cell_type": "code",
   "execution_count": 14,
   "metadata": {},
   "outputs": [
    {
     "name": "stdout",
     "output_type": "stream",
     "text": [
      "CPU times: user 232 ms, sys: 237 ms, total: 469 ms\n",
      "Wall time: 102 ms\n"
     ]
    }
   ],
   "source": [
    "%%time\n",
    "bofs_quantized,bofs_q_dis = vq.vq(np.vstack(X_train),codebook)"
   ]
  },
  {
   "cell_type": "code",
   "execution_count": 15,
   "metadata": {},
   "outputs": [
    {
     "data": {
      "text/plain": [
       "1.443699794542453"
      ]
     },
     "execution_count": 15,
     "metadata": {},
     "output_type": "execute_result"
    }
   ],
   "source": [
    "np.mean(bofs_q_dis)"
   ]
  },
  {
   "cell_type": "markdown",
   "metadata": {},
   "source": [
    "A continuación se revisa la distribución del vocabulario visual con respecto a las BOF, es decir,\n",
    "por cada palabra en el vocabulario, cuantas BOF asignadas tiene."
   ]
  },
  {
   "cell_type": "code",
   "execution_count": 16,
   "metadata": {},
   "outputs": [],
   "source": [
    "code,count_code = np.unique(bofs_quantized, return_counts=True)\n",
    "code_dic = dict(zip(code,count_code))\n",
    "# print(code_dic)"
   ]
  },
  {
   "cell_type": "code",
   "execution_count": 17,
   "metadata": {},
   "outputs": [
    {
     "data": {
      "image/png": "[encoded data removed]",
      "text/plain": [
       "<Figure size 720x432 with 1 Axes>"
      ]
     },
     "metadata": {
      "needs_background": "light"
     },
     "output_type": "display_data"
    }
   ],
   "source": [
    "plt.figure(figsize=(10, 6))\n",
    "plt.bar(code, count_code)\n",
    "plt.show()"
   ]
  },
  {
   "cell_type": "markdown",
   "metadata": {},
   "source": [
    "Persistencia del codebook"
   ]
  },
  {
   "cell_type": "code",
   "execution_count": 37,
   "metadata": {},
   "outputs": [],
   "source": [
    "np.save(\"codebook02\",codebook)"
   ]
  },
  {
   "cell_type": "markdown",
   "metadata": {},
   "source": [
    "### Obtención de la representación BoVW"
   ]
  },
  {
   "cell_type": "code",
   "execution_count": 18,
   "metadata": {},
   "outputs": [
    {
     "name": "stdout",
     "output_type": "stream",
     "text": [
      "Processing histogram generation over 4875 samples\n",
      "The histogram generation took 5.604211[s] CPU, 1.002298[s] real\n"
     ]
    },
    {
     "data": {
      "text/plain": [
       "(4875, 256)"
      ]
     },
     "execution_count": 18,
     "metadata": {},
     "output_type": "execute_result"
    }
   ],
   "source": [
    "vw_train = getBoVWRepresentation(X_train,codebook)\n",
    "vw_train.shape"
   ]
  },
  {
   "cell_type": "code",
   "execution_count": 19,
   "metadata": {},
   "outputs": [
    {
     "data": {
      "text/plain": [
       "array([0., 0., 0., 0., 1., 0., 0., 0., 0., 0., 0., 0., 0., 0., 0., 0., 0.,\n",
       "       0., 0., 0., 0., 0., 0., 0., 0., 0., 0., 0., 0., 0., 0., 0., 0., 0.,\n",
       "       0., 0., 0., 0., 0., 0., 0., 0., 0., 0., 0., 0., 0., 0., 0., 0., 0.,\n",
       "       0., 0., 0., 0., 0., 0., 0., 0., 0., 0., 0., 0., 0., 0., 0., 0., 0.,\n",
       "       0., 0., 0., 0., 0., 0., 0., 0., 0., 0., 0., 0., 0., 0., 0., 0., 0.,\n",
       "       0., 0., 0., 0., 0., 0., 0., 0., 0., 0., 0., 0., 0., 0., 0., 0., 0.,\n",
       "       0., 0., 0., 0., 0., 0., 0., 0., 0., 0., 0., 0., 0., 0., 0., 0., 0.,\n",
       "       0., 0., 0., 0., 0., 0., 0., 0., 0., 0., 0., 0., 0., 0., 0., 0., 0.,\n",
       "       0., 0., 0., 0., 0., 0., 0., 0., 0., 0., 0., 0., 0., 0., 0., 0., 0.,\n",
       "       0., 0., 0., 1., 0., 0., 0., 0., 0., 0., 0., 0., 0., 0., 0., 0., 0.,\n",
       "       0., 0., 0., 0., 0., 0., 0., 0., 0., 0., 0., 0., 1., 0., 0., 0., 0.,\n",
       "       0., 0., 0., 0., 0., 0., 0., 0., 0., 0., 0., 0., 0., 0., 0., 0., 0.,\n",
       "       0., 0., 0., 0., 0., 0., 0., 0., 0., 0., 0., 0., 0., 0., 0., 0., 0.,\n",
       "       0., 0., 0., 0., 0., 0., 0., 0., 0., 0., 0., 0., 0., 0., 0., 0., 0.,\n",
       "       0., 0., 0., 0., 0., 0., 0., 0., 0., 0., 0., 0., 0., 0., 0., 0., 0.,\n",
       "       0.], dtype=float32)"
      ]
     },
     "execution_count": 19,
     "metadata": {},
     "output_type": "execute_result"
    }
   ],
   "source": [
    "vw_train[0]"
   ]
  },
  {
   "cell_type": "code",
   "execution_count": 21,
   "metadata": {},
   "outputs": [
    {
     "name": "stdout",
     "output_type": "stream",
     "text": [
      "Processing histogram generation over 1625 samples\n",
      "The histogram generation took 1.685554[s] CPU, 0.361215[s] real\n"
     ]
    },
    {
     "data": {
      "text/plain": [
       "(1625, 256)"
      ]
     },
     "execution_count": 21,
     "metadata": {},
     "output_type": "execute_result"
    }
   ],
   "source": [
    "vw_test = getBoVWRepresentation(X_test,codebook)\n",
    "vw_test.shape"
   ]
  },
  {
   "cell_type": "markdown",
   "metadata": {},
   "source": [
    "## Preprocesamiento de datos\n",
    "### Estandarización de datos"
   ]
  },
  {
   "cell_type": "code",
   "execution_count": 22,
   "metadata": {},
   "outputs": [
    {
     "data": {
      "text/plain": [
       "array([-0.12834352, -0.12584369, -0.09433455, -0.14397445,  8.73962   ,\n",
       "       -0.12807976, -0.12329639, -0.10483935, -0.11804706, -0.10383482,\n",
       "       -0.12157035, -0.11715061, -0.08625285, -0.08179621, -0.14021824,\n",
       "       -0.05366625, -0.10682129, -0.1077992 , -0.10583476, -0.14097688,\n",
       "       -0.09209554, -0.08980265, -0.14764269, -0.15474027, -0.1028209 ,\n",
       "       -0.13079864, -0.10383482, -0.11256721, -0.06418305, -0.08625285,\n",
       "       -0.08503766, -0.0732252 , -0.09977987, -0.1313274 , -0.09760012,\n",
       "       -0.1332115 , -0.14836636, -0.08625285, -0.1512294 , -0.11068347,\n",
       "       -0.08745163, -0.07735837, -0.09874859, -0.06087685, -0.10383482,\n",
       "       -0.08625285, -0.12203164, -0.06577484, -0.08255523, -0.13636681,\n",
       "       -0.11804706, -0.11442145, -0.09543503, -0.09095608, -0.08255523,\n",
       "       -0.12431704, -0.05366625, -0.13212794, -0.10682129, -0.14173174,\n",
       "       -0.12751535, -0.09866549, -0.03204206, -0.09897335, -0.10973008,\n",
       "       -0.09209554, -0.11511195, -0.05738344, -0.10583476, -0.12415094,\n",
       "       -0.13029855, -0.12243623, -0.07868895, -0.12916674, -0.09866549,\n",
       "       -0.10483935, -0.14555982, -0.12069862, -0.15336885, -0.05738344,\n",
       "       -0.08128638, -0.10483935, -0.10483935, -0.11129624, -0.11162911,\n",
       "       -0.06577484, -0.08380538, -0.070338  , -0.07179582, -0.04300661,\n",
       "       -0.15264255, -0.10076377, -0.1028209 , -0.09760012, -0.0886347 ,\n",
       "       -0.03792047, -0.05366625, -0.08745163, -0.05366625, -0.09866549,\n",
       "       -0.10179732, -0.09322154, -0.17756046, -0.05170877, -0.1028209 ,\n",
       "       -0.09045422, -0.11442145, -0.05366625, -0.09322154, -0.09322154,\n",
       "       -0.13083637, -0.05366625, -0.11809737, -0.13160749, -0.12751535,\n",
       "       -0.02025894, -0.13895524, -0.12588574, -0.11349792, -0.11624764,\n",
       "       -0.10876872, -0.08255523, -0.07600506, -0.08503766, -0.12157035,\n",
       "       -0.12834352, -0.11256721, -0.07600506, -0.07179582, -0.14691576,\n",
       "       -0.14982991, -0.11068347, -0.09209554, -0.08128638, -0.12584369,\n",
       "       -0.10179732, -0.04967507, -0.08625285, -0.11349792, -0.06418305,\n",
       "       -0.12751535, -0.10973008, -0.10682129, -0.09322154, -0.08625285,\n",
       "       -0.07462779, -0.09652342, -0.12329639, -0.04054286, -0.10876872,\n",
       "       -0.13479772, -0.1077992 , -0.09322154, -0.08380538, -0.1207459 ,\n",
       "       -0.0886347 ,  9.36143   , -0.10383482, -0.08980265, -0.0886347 ,\n",
       "       -0.12329639, -0.12157035, -0.12157035, -0.11624764, -0.1340068 ,\n",
       "       -0.08980265, -0.01432377, -0.04967507, -0.13717812, -0.11068347,\n",
       "       -0.07600506, -0.12243623, -0.11642014, -0.10876872, -0.11982093,\n",
       "       -0.15543379, -0.16940495, -0.15474027, -0.10383482, -0.11804706,\n",
       "       -0.09433455, -0.09543503, 11.593821  , -0.13636681, -0.12668209,\n",
       "       -0.08477126, -0.10179732, -0.1438612 , -0.13558437, -0.12584369,\n",
       "       -0.11294325, -0.12033586, -0.06087685, -0.1371451 , -0.12998508,\n",
       "       -0.09322154, -0.10583476, -0.02865635, -0.13079864, -0.1332115 ,\n",
       "       -0.05915558, -0.11893711, -0.0732252 , -0.10105491, -0.11162911,\n",
       "       -0.11982093, -0.12069862, -0.10876872, -0.04054286, -0.09433455,\n",
       "       -0.11624764, -0.08887833, -0.1028209 , -0.10179732, -0.13334864,\n",
       "       -0.09095608, -0.05555556, -0.10682129, -0.14323047, -0.11256721,\n",
       "       -0.13241176, -0.09095608, -0.12157035, -0.10510132, -0.10876872,\n",
       "       -0.14248292, -0.16552117, -0.04967507, -0.11720202, -0.08745163,\n",
       "       -0.09209554, -0.10688786, -0.10076377, -0.12157035, -0.09971993,\n",
       "       -0.12834352, -0.08516307, -0.14248292, -0.08380538, -0.12834352,\n",
       "       -0.11349792, -0.16088454, -0.11256721, -0.06577484, -0.11162911,\n",
       "       -0.10383482, -0.02025894, -0.11893711, -0.06732962, -0.09543503,\n",
       "       -0.09209554, -0.08980265, -0.12161668, -0.08255523, -0.11539166,\n",
       "       -0.14557047], dtype=float32)"
      ]
     },
     "execution_count": 22,
     "metadata": {},
     "output_type": "execute_result"
    }
   ],
   "source": [
    "stdSlr = StandardScaler()\n",
    "train = vw_train\n",
    "train = stdSlr.fit_transform(train)\n",
    "train[0]"
   ]
  },
  {
   "cell_type": "code",
   "execution_count": 23,
   "metadata": {},
   "outputs": [
    {
     "name": "stdout",
     "output_type": "stream",
     "text": [
      "mean = 0.01160576923076923\n",
      "var = 0.011663043063773743\n"
     ]
    }
   ],
   "source": [
    "print(f\"mean = {np.mean(stdSlr.mean_)}\")\n",
    "print(f\"var = {np.mean(stdSlr.var_)}\")"
   ]
  },
  {
   "cell_type": "code",
   "execution_count": 24,
   "metadata": {},
   "outputs": [],
   "source": [
    "test = vw_test\n",
    "test = stdSlr.transform(test)"
   ]
  },
  {
   "cell_type": "markdown",
   "metadata": {},
   "source": [
    "### Análisis de componentes principales"
   ]
  },
  {
   "cell_type": "code",
   "execution_count": 42,
   "metadata": {},
   "outputs": [
    {
     "data": {
      "text/plain": [
       "array([0.01595764, 0.01271896, 0.01231668, 0.01208354, 0.01119396,\n",
       "       0.01073583, 0.01031986, 0.01022761, 0.01012168, 0.00969572,\n",
       "       0.00954958, 0.00921163, 0.00898627, 0.00885287, 0.00872653,\n",
       "       0.00853367, 0.00824769, 0.00802489, 0.00790226, 0.00781044,\n",
       "       0.00762845, 0.00755407, 0.00749582, 0.00743713, 0.00732017,\n",
       "       0.00726952, 0.00719905, 0.00715686, 0.00708885, 0.00704312,\n",
       "       0.00698117, 0.00689769, 0.00683015, 0.00681463, 0.00665566,\n",
       "       0.00660332, 0.00651685, 0.00645714, 0.00638369, 0.0063318 ,\n",
       "       0.00629803, 0.00626778, 0.00622336, 0.00618919, 0.00615086,\n",
       "       0.0061149 , 0.00603805, 0.00602054, 0.00595657, 0.00589405,\n",
       "       0.00584516, 0.00579931, 0.00579131, 0.00573451, 0.00570978,\n",
       "       0.00566268, 0.00560241, 0.00556357, 0.00553517, 0.00547057,\n",
       "       0.0054405 , 0.00541411, 0.00538286, 0.00531439, 0.00527839,\n",
       "       0.00522586, 0.00517931, 0.00515571, 0.00512678, 0.00508629,\n",
       "       0.0050748 , 0.00503695, 0.00502622, 0.00500315, 0.00494485,\n",
       "       0.0049324 , 0.00491804, 0.00485724, 0.0047898 , 0.00474979,\n",
       "       0.00471293, 0.00470788, 0.00466132, 0.0046106 , 0.00460632,\n",
       "       0.00459981, 0.00456222, 0.00452041, 0.0044931 , 0.00445279,\n",
       "       0.00444381, 0.00443765, 0.00438849, 0.00438039, 0.00435236,\n",
       "       0.00433248, 0.00431223, 0.00429354, 0.00426978, 0.00424985,\n",
       "       0.00421914, 0.00420727, 0.00418468, 0.00416052, 0.00415284,\n",
       "       0.00414391, 0.00411427, 0.00408387, 0.00404531, 0.0040384 ,\n",
       "       0.00400722, 0.00399622, 0.00396048, 0.00395647, 0.00390434,\n",
       "       0.00389078, 0.00388734, 0.00387029, 0.00383237, 0.00380375,\n",
       "       0.00378988, 0.00377708, 0.00375138, 0.00373512, 0.00372077,\n",
       "       0.0036894 , 0.00364996, 0.00363598, 0.00359552, 0.00355461,\n",
       "       0.00354193, 0.00350671, 0.00347564, 0.00344959, 0.00342229,\n",
       "       0.00338898, 0.00336953, 0.00334573, 0.00331007, 0.00330265,\n",
       "       0.00327271, 0.0032346 , 0.00320692, 0.00319151, 0.00316771,\n",
       "       0.00314871, 0.00314743, 0.00312529, 0.00309524, 0.00306375,\n",
       "       0.00304451, 0.00299938, 0.00295689, 0.00294102, 0.00290307,\n",
       "       0.00288903, 0.00282734, 0.00281108, 0.00280547, 0.0027722 ,\n",
       "       0.0027432 , 0.00271861, 0.00270224, 0.00267588, 0.00264793,\n",
       "       0.00261085, 0.00259403, 0.00253999, 0.0025228 , 0.00250512,\n",
       "       0.00245894, 0.00244632, 0.00241932, 0.00237863, 0.00236387,\n",
       "       0.00232696, 0.00230042, 0.00226277, 0.00224004, 0.0022299 ,\n",
       "       0.00219581, 0.00219256, 0.00213098, 0.00209735, 0.00208261,\n",
       "       0.00203093, 0.00200356, 0.00197479, 0.00193897, 0.0019023 ,\n",
       "       0.00186374, 0.00183124, 0.00181956, 0.00179973, 0.00177602,\n",
       "       0.00175499, 0.00171042, 0.00168397, 0.0016779 , 0.00163989,\n",
       "       0.00159186, 0.00155645, 0.00152659, 0.00151544, 0.00148303,\n",
       "       0.00145228, 0.00143547, 0.00140973, 0.00139549, 0.00135157,\n",
       "       0.00134921, 0.00130852, 0.00128395, 0.00127666, 0.00124669,\n",
       "       0.00123659, 0.00119078, 0.00114915, 0.00112937, 0.00112337,\n",
       "       0.00108813, 0.00106904, 0.00102564, 0.0010035 , 0.00098639,\n",
       "       0.00097804, 0.00096163, 0.00094311, 0.00088746, 0.00087295,\n",
       "       0.00086373, 0.00081677, 0.00078101, 0.00076866, 0.00073721,\n",
       "       0.00073284, 0.00071603, 0.00066589, 0.00065454, 0.00062978,\n",
       "       0.00061263, 0.00058282, 0.00055756, 0.00053266, 0.00047268,\n",
       "       0.00043052, 0.00041453, 0.00036429, 0.00034286, 0.00030816,\n",
       "       0.00029291, 0.00027748, 0.00021906, 0.00018625, 0.00013413,\n",
       "       0.00013006], dtype=float32)"
      ]
     },
     "execution_count": 42,
     "metadata": {},
     "output_type": "execute_result"
    }
   ],
   "source": [
    "pca = PCA()\n",
    "pca.fit(train)\n",
    "pca.explained_variance_ratio_"
   ]
  },
  {
   "cell_type": "code",
   "execution_count": 24,
   "metadata": {},
   "outputs": [
    {
     "data": {
      "image/png": "[encoded data removed]",
      "text/plain": [
       "<Figure size 936x432 with 1 Axes>"
      ]
     },
     "metadata": {
      "needs_background": "light"
     },
     "output_type": "display_data"
    }
   ],
   "source": [
    "cum_var = np.cumsum(pca.explained_variance_ratio_)\n",
    "plt.figure(figsize=(13,6))\n",
    "plt.plot(cum_var)\n",
    "plt.xlabel('Features')\n",
    "plt.ylabel('Cumulated variance')\n",
    "plt.grid()\n",
    "plt.show()"
   ]
  },
  {
   "cell_type": "code",
   "execution_count": 25,
   "metadata": {},
   "outputs": [
    {
     "data": {
      "text/plain": [
       "0.8783105"
      ]
     },
     "execution_count": 25,
     "metadata": {},
     "output_type": "execute_result"
    }
   ],
   "source": [
    "cum_var[89]"
   ]
  },
  {
   "cell_type": "code",
   "execution_count": 26,
   "metadata": {},
   "outputs": [
    {
     "data": {
      "text/plain": [
       "(1146, 90)"
      ]
     },
     "execution_count": 26,
     "metadata": {},
     "output_type": "execute_result"
    }
   ],
   "source": [
    "train_red = pca.transform(train)\n",
    "train_red = train_red[:,:90]\n",
    "train_red.shape"
   ]
  },
  {
   "cell_type": "code",
   "execution_count": 27,
   "metadata": {},
   "outputs": [
    {
     "data": {
      "text/plain": [
       "(382, 90)"
      ]
     },
     "execution_count": 27,
     "metadata": {},
     "output_type": "execute_result"
    }
   ],
   "source": [
    "test_red = pca.transform(test)\n",
    "test_red = test_red[:,:90]\n",
    "test_red.shape"
   ]
  },
  {
   "cell_type": "markdown",
   "metadata": {},
   "source": [
    "## Clasificación"
   ]
  },
  {
   "cell_type": "code",
   "execution_count": 26,
   "metadata": {},
   "outputs": [
    {
     "name": "stdout",
     "output_type": "stream",
     "text": [
      "{'C': 3.577857142857143, 'kernel': 'rbf'}\n",
      "CPU times: user 3min 4s, sys: 146 ms, total: 3min 4s\n",
      "Wall time: 3min 6s\n"
     ]
    }
   ],
   "source": [
    "%%time\n",
    "folds=5\n",
    "start=0.01\n",
    "end=10\n",
    "numparams=15\n",
    "\n",
    "tuned_parameters = [{'kernel': ['rbf'], 'C':np.linspace(start,end,num=numparams)}]\n",
    "# tuned_parameters = [{'kernel': [\"linear\", \"poly\", \"rbf\", \"sigmoid\"], 'C':[1]}]\n",
    "clf = GridSearchCV(svm.SVC(), tuned_parameters, cv=folds,scoring='accuracy')\n",
    "clf.fit(train, y_train)\n",
    "print(clf.best_params_)"
   ]
  },
  {
   "cell_type": "code",
   "execution_count": 32,
   "metadata": {},
   "outputs": [
    {
     "name": "stdout",
     "output_type": "stream",
     "text": [
      "CPU times: user 4.07 s, sys: 11.5 ms, total: 4.08 s\n",
      "Wall time: 4.17 s\n"
     ]
    }
   ],
   "source": [
    "%%time\n",
    "classifier = svm.SVC(C=3.58,kernel='rbf').fit(train,y_train)"
   ]
  },
  {
   "cell_type": "code",
   "execution_count": 27,
   "metadata": {},
   "outputs": [
    {
     "name": "stdout",
     "output_type": "stream",
     "text": [
      "CPU times: user 4.53 s, sys: 4.02 ms, total: 4.53 s\n",
      "Wall time: 4.58 s\n"
     ]
    },
    {
     "data": {
      "text/plain": [
       "99.67179487179487"
      ]
     },
     "execution_count": 27,
     "metadata": {},
     "output_type": "execute_result"
    }
   ],
   "source": [
    "%%time\n",
    "100*classifier.score(train, y_train)\n",
    "# 100*clf.score(train, y_train) # 91.62303665 with pca, 90 features"
   ]
  },
  {
   "cell_type": "code",
   "execution_count": 33,
   "metadata": {},
   "outputs": [
    {
     "name": "stdout",
     "output_type": "stream",
     "text": [
      "CPU times: user 1.62 s, sys: 5.81 ms, total: 1.62 s\n",
      "Wall time: 1.64 s\n"
     ]
    },
    {
     "data": {
      "text/plain": [
       "92.80000000000001"
      ]
     },
     "execution_count": 33,
     "metadata": {},
     "output_type": "execute_result"
    }
   ],
   "source": [
    "%%time\n",
    "100*classifier.score(test, y_test)\n",
    "# 100*clf.score(test, y_test)\n",
    "# 77.48691099 with pca, 90 features, 128 words\n",
    "# 79.3193 with 512 words, C=2.0768"
   ]
  },
  {
   "attachments": {},
   "cell_type": "markdown",
   "metadata": {},
   "source": [
    "## Evaluación de resultados"
   ]
  },
  {
   "cell_type": "code",
   "execution_count": 34,
   "metadata": {},
   "outputs": [],
   "source": [
    "test_pred = classifier.predict(test)"
   ]
  },
  {
   "cell_type": "code",
   "execution_count": 35,
   "metadata": {},
   "outputs": [
    {
     "data": {
      "image/png": "[encoded data removed]",
      "text/plain": [
       "<Figure size 648x504 with 2 Axes>"
      ]
     },
     "metadata": {
      "needs_background": "light"
     },
     "output_type": "display_data"
    }
   ],
   "source": [
    "fig, ax = plt.subplots(figsize=(9,7))\n",
    "cmd = ConfusionMatrixDisplay.from_predictions(y_true=y_test,y_pred=test_pred,\n",
    "                                              ax=ax,cmap='PuRd',display_labels=class_names)\n",
    "plt.show()"
   ]
  },
  {
   "cell_type": "code",
   "execution_count": 36,
   "metadata": {},
   "outputs": [
    {
     "name": "stdout",
     "output_type": "stream",
     "text": [
      "              precision    recall  f1-score   support\n",
      "\n",
      "       chess       0.91      0.96      0.93       263\n",
      "        fire       0.95      0.97      0.96       239\n",
      "       heads       0.90      0.90      0.90       247\n",
      "      office       0.91      0.87      0.89       262\n",
      "     pumpkin       0.95      0.94      0.94       249\n",
      "  redkitchen       0.94      0.94      0.94       245\n",
      "      stairs       0.96      0.93      0.94       120\n",
      "\n",
      "    accuracy                           0.93      1625\n",
      "   macro avg       0.93      0.93      0.93      1625\n",
      "weighted avg       0.93      0.93      0.93      1625\n",
      "\n"
     ]
    }
   ],
   "source": [
    "print(classification_report(y_true=y_test,y_pred=test_pred,target_names=class_names))"
   ]
  },
  {
   "cell_type": "markdown",
   "metadata": {},
   "source": [
    "## Persistencia del modelo\n",
    "Para la persistencia del modelo se utiliza `joblib`, que es una implemenatción más eficiente de pickle."
   ]
  },
  {
   "cell_type": "markdown",
   "metadata": {},
   "source": [
    "Se utiliza `dump` para almacenar el modelo."
   ]
  },
  {
   "cell_type": "code",
   "execution_count": 37,
   "metadata": {},
   "outputs": [
    {
     "data": {
      "text/plain": [
       "['model02.joblib']"
      ]
     },
     "execution_count": 37,
     "metadata": {},
     "output_type": "execute_result"
    }
   ],
   "source": [
    "dump(classifier, \"model02.joblib\")"
   ]
  },
  {
   "cell_type": "markdown",
   "metadata": {},
   "source": [
    "De igual forma se almacena el estandarizador"
   ]
  },
  {
   "cell_type": "code",
   "execution_count": 38,
   "metadata": {},
   "outputs": [
    {
     "data": {
      "text/plain": [
       "['standard_scaler02.joblib']"
      ]
     },
     "execution_count": 38,
     "metadata": {},
     "output_type": "execute_result"
    }
   ],
   "source": [
    "dump(stdSlr,\"standard_scaler02.joblib\")"
   ]
  },
  {
   "cell_type": "markdown",
   "metadata": {},
   "source": [
    "Se utiliza `load` para leerlo."
   ]
  },
  {
   "cell_type": "code",
   "execution_count": 39,
   "metadata": {},
   "outputs": [],
   "source": [
    "clf = load('model02.joblib')"
   ]
  },
  {
   "cell_type": "code",
   "execution_count": 40,
   "metadata": {},
   "outputs": [
    {
     "data": {
      "text/plain": [
       "{'C': 3.58,\n",
       " 'break_ties': False,\n",
       " 'cache_size': 200,\n",
       " 'class_weight': None,\n",
       " 'coef0': 0.0,\n",
       " 'decision_function_shape': 'ovr',\n",
       " 'degree': 3,\n",
       " 'gamma': 'scale',\n",
       " 'kernel': 'rbf',\n",
       " 'max_iter': -1,\n",
       " 'probability': False,\n",
       " 'random_state': None,\n",
       " 'shrinking': True,\n",
       " 'tol': 0.001,\n",
       " 'verbose': False}"
      ]
     },
     "execution_count": 40,
     "metadata": {},
     "output_type": "execute_result"
    }
   ],
   "source": [
    "clf.get_params()"
   ]
  }
 ],
 "metadata": {
  "kernelspec": {
   "display_name": "Python 3.9.13 ('rgbd')",
   "language": "python",
   "name": "python3"
  },
  "language_info": {
   "codemirror_mode": {
    "name": "ipython",
    "version": 3
   },
   "file_extension": ".py",
   "mimetype": "text/x-python",
   "name": "python",
   "nbconvert_exporter": "python",
   "pygments_lexer": "ipython3",
   "version": "3.9.15"
  },
  "orig_nbformat": 4,
  "vscode": {
   "interpreter": {
    "hash": "3f0822e95089ef0e47302329ecab0c072afaf29e3bd77cbe2eee5700300d1247"
   }
  }
 },
 "nbformat": 4,
 "nbformat_minor": 2
}
